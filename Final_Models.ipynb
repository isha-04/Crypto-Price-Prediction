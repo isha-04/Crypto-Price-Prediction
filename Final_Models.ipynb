{
  "nbformat": 4,
  "nbformat_minor": 0,
  "metadata": {
    "colab": {
      "name": "Final_Models.ipynb",
      "provenance": []
    },
    "kernelspec": {
      "name": "python3",
      "display_name": "Python 3"
    },
    "language_info": {
      "name": "python"
    }
  },
  "cells": [
    {
      "cell_type": "code",
      "execution_count": null,
      "metadata": {
        "id": "H5CIcsKhdbpa"
      },
      "outputs": [],
      "source": [
        "import pandas as pd\n",
        "import matplotlib.pyplot as plt\n",
        "import matplotlib.dates as mdates\n",
        "from sklearn.model_selection import train_test_split\n",
        "import numpy as np\n",
        "import seaborn as sb"
      ]
    },
    {
      "cell_type": "code",
      "source": [
        "from google.colab import drive\n",
        "drive.mount('/content/drive')"
      ],
      "metadata": {
        "colab": {
          "base_uri": "https://localhost:8080/"
        },
        "id": "MxpK3TFpa_Sk",
        "outputId": "ccdce149-eb65-48e0-dfed-a8203f8641c7"
      },
      "execution_count": null,
      "outputs": [
        {
          "output_type": "stream",
          "name": "stdout",
          "text": [
            "Mounted at /content/drive\n"
          ]
        }
      ]
    },
    {
      "cell_type": "code",
      "source": [
        "df = pd.read_csv('/content/drive/MyDrive/crypto-markets.csv')\n",
        "df.head()"
      ],
      "metadata": {
        "colab": {
          "base_uri": "https://localhost:8080/",
          "height": 206
        },
        "id": "jstzhecndfap",
        "outputId": "020d1a68-3bca-4911-8b36-d0d0a3c1e262"
      },
      "execution_count": null,
      "outputs": [
        {
          "output_type": "execute_result",
          "data": {
            "text/html": [
              "\n",
              "  <div id=\"df-f89f4317-4ffb-4b19-b4d1-43c438adfdcd\">\n",
              "    <div class=\"colab-df-container\">\n",
              "      <div>\n",
              "<style scoped>\n",
              "    .dataframe tbody tr th:only-of-type {\n",
              "        vertical-align: middle;\n",
              "    }\n",
              "\n",
              "    .dataframe tbody tr th {\n",
              "        vertical-align: top;\n",
              "    }\n",
              "\n",
              "    .dataframe thead th {\n",
              "        text-align: right;\n",
              "    }\n",
              "</style>\n",
              "<table border=\"1\" class=\"dataframe\">\n",
              "  <thead>\n",
              "    <tr style=\"text-align: right;\">\n",
              "      <th></th>\n",
              "      <th>slug</th>\n",
              "      <th>symbol</th>\n",
              "      <th>name</th>\n",
              "      <th>date</th>\n",
              "      <th>ranknow</th>\n",
              "      <th>open</th>\n",
              "      <th>high</th>\n",
              "      <th>low</th>\n",
              "      <th>close</th>\n",
              "      <th>volume</th>\n",
              "      <th>market</th>\n",
              "      <th>close_ratio</th>\n",
              "      <th>spread</th>\n",
              "    </tr>\n",
              "  </thead>\n",
              "  <tbody>\n",
              "    <tr>\n",
              "      <th>0</th>\n",
              "      <td>bitcoin</td>\n",
              "      <td>BTC</td>\n",
              "      <td>Bitcoin</td>\n",
              "      <td>2013-04-28</td>\n",
              "      <td>1</td>\n",
              "      <td>135.30</td>\n",
              "      <td>135.98</td>\n",
              "      <td>132.10</td>\n",
              "      <td>134.21</td>\n",
              "      <td>0.0</td>\n",
              "      <td>1.488567e+09</td>\n",
              "      <td>0.5438</td>\n",
              "      <td>3.88</td>\n",
              "    </tr>\n",
              "    <tr>\n",
              "      <th>1</th>\n",
              "      <td>bitcoin</td>\n",
              "      <td>BTC</td>\n",
              "      <td>Bitcoin</td>\n",
              "      <td>2013-04-29</td>\n",
              "      <td>1</td>\n",
              "      <td>134.44</td>\n",
              "      <td>147.49</td>\n",
              "      <td>134.00</td>\n",
              "      <td>144.54</td>\n",
              "      <td>0.0</td>\n",
              "      <td>1.603769e+09</td>\n",
              "      <td>0.7813</td>\n",
              "      <td>13.49</td>\n",
              "    </tr>\n",
              "    <tr>\n",
              "      <th>2</th>\n",
              "      <td>bitcoin</td>\n",
              "      <td>BTC</td>\n",
              "      <td>Bitcoin</td>\n",
              "      <td>2013-04-30</td>\n",
              "      <td>1</td>\n",
              "      <td>144.00</td>\n",
              "      <td>146.93</td>\n",
              "      <td>134.05</td>\n",
              "      <td>139.00</td>\n",
              "      <td>0.0</td>\n",
              "      <td>1.542813e+09</td>\n",
              "      <td>0.3843</td>\n",
              "      <td>12.88</td>\n",
              "    </tr>\n",
              "    <tr>\n",
              "      <th>3</th>\n",
              "      <td>bitcoin</td>\n",
              "      <td>BTC</td>\n",
              "      <td>Bitcoin</td>\n",
              "      <td>2013-05-01</td>\n",
              "      <td>1</td>\n",
              "      <td>139.00</td>\n",
              "      <td>139.89</td>\n",
              "      <td>107.72</td>\n",
              "      <td>116.99</td>\n",
              "      <td>0.0</td>\n",
              "      <td>1.298955e+09</td>\n",
              "      <td>0.2882</td>\n",
              "      <td>32.17</td>\n",
              "    </tr>\n",
              "    <tr>\n",
              "      <th>4</th>\n",
              "      <td>bitcoin</td>\n",
              "      <td>BTC</td>\n",
              "      <td>Bitcoin</td>\n",
              "      <td>2013-05-02</td>\n",
              "      <td>1</td>\n",
              "      <td>116.38</td>\n",
              "      <td>125.60</td>\n",
              "      <td>92.28</td>\n",
              "      <td>105.21</td>\n",
              "      <td>0.0</td>\n",
              "      <td>1.168517e+09</td>\n",
              "      <td>0.3881</td>\n",
              "      <td>33.32</td>\n",
              "    </tr>\n",
              "  </tbody>\n",
              "</table>\n",
              "</div>\n",
              "      <button class=\"colab-df-convert\" onclick=\"convertToInteractive('df-f89f4317-4ffb-4b19-b4d1-43c438adfdcd')\"\n",
              "              title=\"Convert this dataframe to an interactive table.\"\n",
              "              style=\"display:none;\">\n",
              "        \n",
              "  <svg xmlns=\"http://www.w3.org/2000/svg\" height=\"24px\"viewBox=\"0 0 24 24\"\n",
              "       width=\"24px\">\n",
              "    <path d=\"M0 0h24v24H0V0z\" fill=\"none\"/>\n",
              "    <path d=\"M18.56 5.44l.94 2.06.94-2.06 2.06-.94-2.06-.94-.94-2.06-.94 2.06-2.06.94zm-11 1L8.5 8.5l.94-2.06 2.06-.94-2.06-.94L8.5 2.5l-.94 2.06-2.06.94zm10 10l.94 2.06.94-2.06 2.06-.94-2.06-.94-.94-2.06-.94 2.06-2.06.94z\"/><path d=\"M17.41 7.96l-1.37-1.37c-.4-.4-.92-.59-1.43-.59-.52 0-1.04.2-1.43.59L10.3 9.45l-7.72 7.72c-.78.78-.78 2.05 0 2.83L4 21.41c.39.39.9.59 1.41.59.51 0 1.02-.2 1.41-.59l7.78-7.78 2.81-2.81c.8-.78.8-2.07 0-2.86zM5.41 20L4 18.59l7.72-7.72 1.47 1.35L5.41 20z\"/>\n",
              "  </svg>\n",
              "      </button>\n",
              "      \n",
              "  <style>\n",
              "    .colab-df-container {\n",
              "      display:flex;\n",
              "      flex-wrap:wrap;\n",
              "      gap: 12px;\n",
              "    }\n",
              "\n",
              "    .colab-df-convert {\n",
              "      background-color: #E8F0FE;\n",
              "      border: none;\n",
              "      border-radius: 50%;\n",
              "      cursor: pointer;\n",
              "      display: none;\n",
              "      fill: #1967D2;\n",
              "      height: 32px;\n",
              "      padding: 0 0 0 0;\n",
              "      width: 32px;\n",
              "    }\n",
              "\n",
              "    .colab-df-convert:hover {\n",
              "      background-color: #E2EBFA;\n",
              "      box-shadow: 0px 1px 2px rgba(60, 64, 67, 0.3), 0px 1px 3px 1px rgba(60, 64, 67, 0.15);\n",
              "      fill: #174EA6;\n",
              "    }\n",
              "\n",
              "    [theme=dark] .colab-df-convert {\n",
              "      background-color: #3B4455;\n",
              "      fill: #D2E3FC;\n",
              "    }\n",
              "\n",
              "    [theme=dark] .colab-df-convert:hover {\n",
              "      background-color: #434B5C;\n",
              "      box-shadow: 0px 1px 3px 1px rgba(0, 0, 0, 0.15);\n",
              "      filter: drop-shadow(0px 1px 2px rgba(0, 0, 0, 0.3));\n",
              "      fill: #FFFFFF;\n",
              "    }\n",
              "  </style>\n",
              "\n",
              "      <script>\n",
              "        const buttonEl =\n",
              "          document.querySelector('#df-f89f4317-4ffb-4b19-b4d1-43c438adfdcd button.colab-df-convert');\n",
              "        buttonEl.style.display =\n",
              "          google.colab.kernel.accessAllowed ? 'block' : 'none';\n",
              "\n",
              "        async function convertToInteractive(key) {\n",
              "          const element = document.querySelector('#df-f89f4317-4ffb-4b19-b4d1-43c438adfdcd');\n",
              "          const dataTable =\n",
              "            await google.colab.kernel.invokeFunction('convertToInteractive',\n",
              "                                                     [key], {});\n",
              "          if (!dataTable) return;\n",
              "\n",
              "          const docLinkHtml = 'Like what you see? Visit the ' +\n",
              "            '<a target=\"_blank\" href=https://colab.research.google.com/notebooks/data_table.ipynb>data table notebook</a>'\n",
              "            + ' to learn more about interactive tables.';\n",
              "          element.innerHTML = '';\n",
              "          dataTable['output_type'] = 'display_data';\n",
              "          await google.colab.output.renderOutput(dataTable, element);\n",
              "          const docLink = document.createElement('div');\n",
              "          docLink.innerHTML = docLinkHtml;\n",
              "          element.appendChild(docLink);\n",
              "        }\n",
              "      </script>\n",
              "    </div>\n",
              "  </div>\n",
              "  "
            ],
            "text/plain": [
              "      slug symbol     name  ...        market  close_ratio  spread\n",
              "0  bitcoin    BTC  Bitcoin  ...  1.488567e+09       0.5438    3.88\n",
              "1  bitcoin    BTC  Bitcoin  ...  1.603769e+09       0.7813   13.49\n",
              "2  bitcoin    BTC  Bitcoin  ...  1.542813e+09       0.3843   12.88\n",
              "3  bitcoin    BTC  Bitcoin  ...  1.298955e+09       0.2882   32.17\n",
              "4  bitcoin    BTC  Bitcoin  ...  1.168517e+09       0.3881   33.32\n",
              "\n",
              "[5 rows x 13 columns]"
            ]
          },
          "metadata": {},
          "execution_count": 107
        }
      ]
    },
    {
      "cell_type": "code",
      "source": [
        "data_bitcoin=df[df.symbol == \"BTC\"]\n",
        "# train, test_data = train_test_split(data_bitcoin, test_size=0.25, random_state=42, shuffle=True)"
      ],
      "metadata": {
        "id": "qYVQGc7AeJ5P"
      },
      "execution_count": null,
      "outputs": []
    },
    {
      "cell_type": "code",
      "source": [
        "dataplot = sb.heatmap(data_bitcoin.corr(), cmap=\"YlGnBu\", annot=True).set(title='Correlation Plot for Bitcoin (all years)')"
      ],
      "metadata": {
        "colab": {
          "base_uri": "https://localhost:8080/",
          "height": 334
        },
        "id": "N0BysXtrZfFa",
        "outputId": "dd41f8fc-347a-4073-c6c5-ba22b9f6e168"
      },
      "execution_count": null,
      "outputs": [
        {
          "output_type": "display_data",
          "data": {
            "image/png": "[encoded data removed]",
            "text/plain": [
              "<Figure size 432x288 with 2 Axes>"
            ]
          },
          "metadata": {}
        }
      ]
    },
    {
      "cell_type": "code",
      "source": [
        "data_bitcoin_2013 = data_bitcoin[data_bitcoin['date'] < '2014-01-01']\n",
        "data_bitcoin_2014 = data_bitcoin[data_bitcoin['date'] < '2015-01-01']\n",
        "data_bitcoin_2015 = data_bitcoin[data_bitcoin['date'] < '2016-01-01']\n",
        "data_bitcoin_2016 = data_bitcoin[data_bitcoin['date'] < '2017-01-01']\n",
        "data_bitcoin_2017 = data_bitcoin[data_bitcoin['date'] < '2018-01-01']\n",
        "data_bitcoin_2018 = data_bitcoin[data_bitcoin['date'] < '2019-01-01']"
      ],
      "metadata": {
        "id": "Fmtn5JRVWnUh"
      },
      "execution_count": null,
      "outputs": []
    },
    {
      "cell_type": "code",
      "source": [
        "fig, axes = plt.subplots(3,2, figsize=(12,12))\n",
        "\n",
        "fig.tight_layout(pad=4)\n",
        "fig.suptitle(\"Correlation plot for Bitcoin (by year)\")\n",
        "\n",
        "sb.heatmap(data_bitcoin_2013.corr(), cmap=\"YlGnBu\", annot=True, ax=axes[0,0]).set(title='2013')\n",
        "sb.heatmap(data_bitcoin_2014.corr(), cmap=\"YlGnBu\", annot=True, ax=axes[0,1]).set(title='2014')\n",
        "sb.heatmap(data_bitcoin_2015.corr(), cmap=\"YlGnBu\", annot=True, ax=axes[1,0]).set(title='2015')\n",
        "sb.heatmap(data_bitcoin_2016.corr(), cmap=\"YlGnBu\", annot=True, ax=axes[1,1]).set(title='2016')\n",
        "sb.heatmap(data_bitcoin_2017.corr(), cmap=\"YlGnBu\", annot=True, ax=axes[2,0]).set(title='2017')\n",
        "sb.heatmap(data_bitcoin_2018.corr(), cmap=\"YlGnBu\", annot=True, ax=axes[2,1]).set(title='2018')"
      ],
      "metadata": {
        "colab": {
          "base_uri": "https://localhost:8080/",
          "height": 896
        },
        "id": "quJodF-5V-k6",
        "outputId": "b4b7b58c-34dd-4dd0-85bb-ab32766587f6"
      },
      "execution_count": null,
      "outputs": [
        {
          "output_type": "execute_result",
          "data": {
            "text/plain": [
              "[Text(0.5, 1.0, '2018')]"
            ]
          },
          "metadata": {},
          "execution_count": 111
        },
        {
          "output_type": "display_data",
          "data": {
            "image/png": "[encoded data removed]",
            "text/plain": [
              "<Figure size 864x864 with 12 Axes>"
            ]
          },
          "metadata": {}
        }
      ]
    },
    {
      "cell_type": "code",
      "source": [
        "# data_bitcoin['mean'] = (data_bitcoin['open'] + data_bitcoin['high'] + data_bitcoin['low'] + data_bitcoin['close']) / 4\n",
        "# data_bitcoin['prediction'] = data_bitcoin['close'].shift(-30)"
      ],
      "metadata": {
        "id": "T2uMbCpToXDy"
      },
      "execution_count": null,
      "outputs": []
    },
    {
      "cell_type": "code",
      "source": [
        "data_bitcoin['open_log'] = np.log1p(data_bitcoin['open'])\n",
        "data_bitcoin['high_log'] = np.log1p(data_bitcoin['high'])\n",
        "data_bitcoin['low_log'] = np.log1p(data_bitcoin['low'])\n",
        "data_bitcoin['close_log'] = np.log1p(data_bitcoin['close'])\n",
        "# data_bitcoin['mean_log'] = np.log1p(data_bitcoin['mean'])"
      ],
      "metadata": {
        "colab": {
          "base_uri": "https://localhost:8080/"
        },
        "id": "i_I-nZOUe3T-",
        "outputId": "67d05592-7258-4aad-80c1-0a9d44fd7909"
      },
      "execution_count": null,
      "outputs": [
        {
          "output_type": "stream",
          "name": "stderr",
          "text": [
            "/usr/local/lib/python3.7/dist-packages/ipykernel_launcher.py:1: SettingWithCopyWarning: \n",
            "A value is trying to be set on a copy of a slice from a DataFrame.\n",
            "Try using .loc[row_indexer,col_indexer] = value instead\n",
            "\n",
            "See the caveats in the documentation: https://pandas.pydata.org/pandas-docs/stable/user_guide/indexing.html#returning-a-view-versus-a-copy\n",
            "  \"\"\"Entry point for launching an IPython kernel.\n",
            "/usr/local/lib/python3.7/dist-packages/ipykernel_launcher.py:2: SettingWithCopyWarning: \n",
            "A value is trying to be set on a copy of a slice from a DataFrame.\n",
            "Try using .loc[row_indexer,col_indexer] = value instead\n",
            "\n",
            "See the caveats in the documentation: https://pandas.pydata.org/pandas-docs/stable/user_guide/indexing.html#returning-a-view-versus-a-copy\n",
            "  \n",
            "/usr/local/lib/python3.7/dist-packages/ipykernel_launcher.py:3: SettingWithCopyWarning: \n",
            "A value is trying to be set on a copy of a slice from a DataFrame.\n",
            "Try using .loc[row_indexer,col_indexer] = value instead\n",
            "\n",
            "See the caveats in the documentation: https://pandas.pydata.org/pandas-docs/stable/user_guide/indexing.html#returning-a-view-versus-a-copy\n",
            "  This is separate from the ipykernel package so we can avoid doing imports until\n",
            "/usr/local/lib/python3.7/dist-packages/ipykernel_launcher.py:4: SettingWithCopyWarning: \n",
            "A value is trying to be set on a copy of a slice from a DataFrame.\n",
            "Try using .loc[row_indexer,col_indexer] = value instead\n",
            "\n",
            "See the caveats in the documentation: https://pandas.pydata.org/pandas-docs/stable/user_guide/indexing.html#returning-a-view-versus-a-copy\n",
            "  after removing the cwd from sys.path.\n"
          ]
        }
      ]
    },
    {
      "cell_type": "code",
      "source": [
        "data_bitcoin"
      ],
      "metadata": {
        "colab": {
          "base_uri": "https://localhost:8080/",
          "height": 423
        },
        "id": "Lzl2OLzvjcB7",
        "outputId": "b6103dd8-be9e-4f02-879c-6b6c08ec019a"
      },
      "execution_count": null,
      "outputs": [
        {
          "output_type": "execute_result",
          "data": {
            "text/html": [
              "\n",
              "  <div id=\"df-6f85e804-7cf1-44f0-9d1e-72f5b2e9c475\">\n",
              "    <div class=\"colab-df-container\">\n",
              "      <div>\n",
              "<style scoped>\n",
              "    .dataframe tbody tr th:only-of-type {\n",
              "        vertical-align: middle;\n",
              "    }\n",
              "\n",
              "    .dataframe tbody tr th {\n",
              "        vertical-align: top;\n",
              "    }\n",
              "\n",
              "    .dataframe thead th {\n",
              "        text-align: right;\n",
              "    }\n",
              "</style>\n",
              "<table border=\"1\" class=\"dataframe\">\n",
              "  <thead>\n",
              "    <tr style=\"text-align: right;\">\n",
              "      <th></th>\n",
              "      <th>slug</th>\n",
              "      <th>symbol</th>\n",
              "      <th>name</th>\n",
              "      <th>date</th>\n",
              "      <th>ranknow</th>\n",
              "      <th>open</th>\n",
              "      <th>high</th>\n",
              "      <th>low</th>\n",
              "      <th>close</th>\n",
              "      <th>volume</th>\n",
              "      <th>market</th>\n",
              "      <th>close_ratio</th>\n",
              "      <th>spread</th>\n",
              "      <th>open_log</th>\n",
              "      <th>high_log</th>\n",
              "      <th>low_log</th>\n",
              "      <th>close_log</th>\n",
              "    </tr>\n",
              "  </thead>\n",
              "  <tbody>\n",
              "    <tr>\n",
              "      <th>0</th>\n",
              "      <td>bitcoin</td>\n",
              "      <td>BTC</td>\n",
              "      <td>Bitcoin</td>\n",
              "      <td>2013-04-28</td>\n",
              "      <td>1</td>\n",
              "      <td>135.30</td>\n",
              "      <td>135.98</td>\n",
              "      <td>132.10</td>\n",
              "      <td>134.21</td>\n",
              "      <td>0.000000e+00</td>\n",
              "      <td>1.488567e+09</td>\n",
              "      <td>0.5438</td>\n",
              "      <td>3.88</td>\n",
              "      <td>4.914858</td>\n",
              "      <td>4.919835</td>\n",
              "      <td>4.891101</td>\n",
              "      <td>4.906829</td>\n",
              "    </tr>\n",
              "    <tr>\n",
              "      <th>1</th>\n",
              "      <td>bitcoin</td>\n",
              "      <td>BTC</td>\n",
              "      <td>Bitcoin</td>\n",
              "      <td>2013-04-29</td>\n",
              "      <td>1</td>\n",
              "      <td>134.44</td>\n",
              "      <td>147.49</td>\n",
              "      <td>134.00</td>\n",
              "      <td>144.54</td>\n",
              "      <td>0.000000e+00</td>\n",
              "      <td>1.603769e+09</td>\n",
              "      <td>0.7813</td>\n",
              "      <td>13.49</td>\n",
              "      <td>4.908529</td>\n",
              "      <td>5.000518</td>\n",
              "      <td>4.905275</td>\n",
              "      <td>4.980451</td>\n",
              "    </tr>\n",
              "    <tr>\n",
              "      <th>2</th>\n",
              "      <td>bitcoin</td>\n",
              "      <td>BTC</td>\n",
              "      <td>Bitcoin</td>\n",
              "      <td>2013-04-30</td>\n",
              "      <td>1</td>\n",
              "      <td>144.00</td>\n",
              "      <td>146.93</td>\n",
              "      <td>134.05</td>\n",
              "      <td>139.00</td>\n",
              "      <td>0.000000e+00</td>\n",
              "      <td>1.542813e+09</td>\n",
              "      <td>0.3843</td>\n",
              "      <td>12.88</td>\n",
              "      <td>4.976734</td>\n",
              "      <td>4.996739</td>\n",
              "      <td>4.905645</td>\n",
              "      <td>4.941642</td>\n",
              "    </tr>\n",
              "    <tr>\n",
              "      <th>3</th>\n",
              "      <td>bitcoin</td>\n",
              "      <td>BTC</td>\n",
              "      <td>Bitcoin</td>\n",
              "      <td>2013-05-01</td>\n",
              "      <td>1</td>\n",
              "      <td>139.00</td>\n",
              "      <td>139.89</td>\n",
              "      <td>107.72</td>\n",
              "      <td>116.99</td>\n",
              "      <td>0.000000e+00</td>\n",
              "      <td>1.298955e+09</td>\n",
              "      <td>0.2882</td>\n",
              "      <td>32.17</td>\n",
              "      <td>4.941642</td>\n",
              "      <td>4.947979</td>\n",
              "      <td>4.688776</td>\n",
              "      <td>4.770600</td>\n",
              "    </tr>\n",
              "    <tr>\n",
              "      <th>4</th>\n",
              "      <td>bitcoin</td>\n",
              "      <td>BTC</td>\n",
              "      <td>Bitcoin</td>\n",
              "      <td>2013-05-02</td>\n",
              "      <td>1</td>\n",
              "      <td>116.38</td>\n",
              "      <td>125.60</td>\n",
              "      <td>92.28</td>\n",
              "      <td>105.21</td>\n",
              "      <td>0.000000e+00</td>\n",
              "      <td>1.168517e+09</td>\n",
              "      <td>0.3881</td>\n",
              "      <td>33.32</td>\n",
              "      <td>4.765417</td>\n",
              "      <td>4.841033</td>\n",
              "      <td>4.535606</td>\n",
              "      <td>4.665418</td>\n",
              "    </tr>\n",
              "    <tr>\n",
              "      <th>...</th>\n",
              "      <td>...</td>\n",
              "      <td>...</td>\n",
              "      <td>...</td>\n",
              "      <td>...</td>\n",
              "      <td>...</td>\n",
              "      <td>...</td>\n",
              "      <td>...</td>\n",
              "      <td>...</td>\n",
              "      <td>...</td>\n",
              "      <td>...</td>\n",
              "      <td>...</td>\n",
              "      <td>...</td>\n",
              "      <td>...</td>\n",
              "      <td>...</td>\n",
              "      <td>...</td>\n",
              "      <td>...</td>\n",
              "      <td>...</td>\n",
              "    </tr>\n",
              "    <tr>\n",
              "      <th>2037</th>\n",
              "      <td>bitcoin</td>\n",
              "      <td>BTC</td>\n",
              "      <td>Bitcoin</td>\n",
              "      <td>2018-11-25</td>\n",
              "      <td>1</td>\n",
              "      <td>3880.78</td>\n",
              "      <td>4120.87</td>\n",
              "      <td>3585.06</td>\n",
              "      <td>4009.97</td>\n",
              "      <td>6.825640e+09</td>\n",
              "      <td>6.974927e+10</td>\n",
              "      <td>0.7930</td>\n",
              "      <td>535.81</td>\n",
              "      <td>8.264049</td>\n",
              "      <td>8.324062</td>\n",
              "      <td>8.184809</td>\n",
              "      <td>8.296788</td>\n",
              "    </tr>\n",
              "    <tr>\n",
              "      <th>2038</th>\n",
              "      <td>bitcoin</td>\n",
              "      <td>BTC</td>\n",
              "      <td>Bitcoin</td>\n",
              "      <td>2018-11-26</td>\n",
              "      <td>1</td>\n",
              "      <td>4015.07</td>\n",
              "      <td>4107.14</td>\n",
              "      <td>3643.92</td>\n",
              "      <td>3779.13</td>\n",
              "      <td>6.476900e+09</td>\n",
              "      <td>6.573929e+10</td>\n",
              "      <td>0.2919</td>\n",
              "      <td>463.22</td>\n",
              "      <td>8.298059</td>\n",
              "      <td>8.320726</td>\n",
              "      <td>8.201090</td>\n",
              "      <td>8.237514</td>\n",
              "    </tr>\n",
              "    <tr>\n",
              "      <th>2039</th>\n",
              "      <td>bitcoin</td>\n",
              "      <td>BTC</td>\n",
              "      <td>Bitcoin</td>\n",
              "      <td>2018-11-27</td>\n",
              "      <td>1</td>\n",
              "      <td>3765.95</td>\n",
              "      <td>3862.96</td>\n",
              "      <td>3661.01</td>\n",
              "      <td>3820.72</td>\n",
              "      <td>5.998720e+09</td>\n",
              "      <td>6.646897e+10</td>\n",
              "      <td>0.7908</td>\n",
              "      <td>201.95</td>\n",
              "      <td>8.234021</td>\n",
              "      <td>8.259448</td>\n",
              "      <td>8.205767</td>\n",
              "      <td>8.248456</td>\n",
              "    </tr>\n",
              "    <tr>\n",
              "      <th>2040</th>\n",
              "      <td>bitcoin</td>\n",
              "      <td>BTC</td>\n",
              "      <td>Bitcoin</td>\n",
              "      <td>2018-11-28</td>\n",
              "      <td>1</td>\n",
              "      <td>3822.47</td>\n",
              "      <td>4385.90</td>\n",
              "      <td>3822.47</td>\n",
              "      <td>4257.42</td>\n",
              "      <td>7.280280e+09</td>\n",
              "      <td>7.407256e+10</td>\n",
              "      <td>0.7720</td>\n",
              "      <td>563.43</td>\n",
              "      <td>8.248914</td>\n",
              "      <td>8.386378</td>\n",
              "      <td>8.248914</td>\n",
              "      <td>8.356653</td>\n",
              "    </tr>\n",
              "    <tr>\n",
              "      <th>2041</th>\n",
              "      <td>bitcoin</td>\n",
              "      <td>BTC</td>\n",
              "      <td>Bitcoin</td>\n",
              "      <td>2018-11-29</td>\n",
              "      <td>1</td>\n",
              "      <td>4269.00</td>\n",
              "      <td>4413.02</td>\n",
              "      <td>4145.77</td>\n",
              "      <td>4278.85</td>\n",
              "      <td>6.503348e+09</td>\n",
              "      <td>7.445102e+10</td>\n",
              "      <td>0.4980</td>\n",
              "      <td>267.25</td>\n",
              "      <td>8.359369</td>\n",
              "      <td>8.392541</td>\n",
              "      <td>8.330085</td>\n",
              "      <td>8.361673</td>\n",
              "    </tr>\n",
              "  </tbody>\n",
              "</table>\n",
              "<p>2042 rows × 17 columns</p>\n",
              "</div>\n",
              "      <button class=\"colab-df-convert\" onclick=\"convertToInteractive('df-6f85e804-7cf1-44f0-9d1e-72f5b2e9c475')\"\n",
              "              title=\"Convert this dataframe to an interactive table.\"\n",
              "              style=\"display:none;\">\n",
              "        \n",
              "  <svg xmlns=\"http://www.w3.org/2000/svg\" height=\"24px\"viewBox=\"0 0 24 24\"\n",
              "       width=\"24px\">\n",
              "    <path d=\"M0 0h24v24H0V0z\" fill=\"none\"/>\n",
              "    <path d=\"M18.56 5.44l.94 2.06.94-2.06 2.06-.94-2.06-.94-.94-2.06-.94 2.06-2.06.94zm-11 1L8.5 8.5l.94-2.06 2.06-.94-2.06-.94L8.5 2.5l-.94 2.06-2.06.94zm10 10l.94 2.06.94-2.06 2.06-.94-2.06-.94-.94-2.06-.94 2.06-2.06.94z\"/><path d=\"M17.41 7.96l-1.37-1.37c-.4-.4-.92-.59-1.43-.59-.52 0-1.04.2-1.43.59L10.3 9.45l-7.72 7.72c-.78.78-.78 2.05 0 2.83L4 21.41c.39.39.9.59 1.41.59.51 0 1.02-.2 1.41-.59l7.78-7.78 2.81-2.81c.8-.78.8-2.07 0-2.86zM5.41 20L4 18.59l7.72-7.72 1.47 1.35L5.41 20z\"/>\n",
              "  </svg>\n",
              "      </button>\n",
              "      \n",
              "  <style>\n",
              "    .colab-df-container {\n",
              "      display:flex;\n",
              "      flex-wrap:wrap;\n",
              "      gap: 12px;\n",
              "    }\n",
              "\n",
              "    .colab-df-convert {\n",
              "      background-color: #E8F0FE;\n",
              "      border: none;\n",
              "      border-radius: 50%;\n",
              "      cursor: pointer;\n",
              "      display: none;\n",
              "      fill: #1967D2;\n",
              "      height: 32px;\n",
              "      padding: 0 0 0 0;\n",
              "      width: 32px;\n",
              "    }\n",
              "\n",
              "    .colab-df-convert:hover {\n",
              "      background-color: #E2EBFA;\n",
              "      box-shadow: 0px 1px 2px rgba(60, 64, 67, 0.3), 0px 1px 3px 1px rgba(60, 64, 67, 0.15);\n",
              "      fill: #174EA6;\n",
              "    }\n",
              "\n",
              "    [theme=dark] .colab-df-convert {\n",
              "      background-color: #3B4455;\n",
              "      fill: #D2E3FC;\n",
              "    }\n",
              "\n",
              "    [theme=dark] .colab-df-convert:hover {\n",
              "      background-color: #434B5C;\n",
              "      box-shadow: 0px 1px 3px 1px rgba(0, 0, 0, 0.15);\n",
              "      filter: drop-shadow(0px 1px 2px rgba(0, 0, 0, 0.3));\n",
              "      fill: #FFFFFF;\n",
              "    }\n",
              "  </style>\n",
              "\n",
              "      <script>\n",
              "        const buttonEl =\n",
              "          document.querySelector('#df-6f85e804-7cf1-44f0-9d1e-72f5b2e9c475 button.colab-df-convert');\n",
              "        buttonEl.style.display =\n",
              "          google.colab.kernel.accessAllowed ? 'block' : 'none';\n",
              "\n",
              "        async function convertToInteractive(key) {\n",
              "          const element = document.querySelector('#df-6f85e804-7cf1-44f0-9d1e-72f5b2e9c475');\n",
              "          const dataTable =\n",
              "            await google.colab.kernel.invokeFunction('convertToInteractive',\n",
              "                                                     [key], {});\n",
              "          if (!dataTable) return;\n",
              "\n",
              "          const docLinkHtml = 'Like what you see? Visit the ' +\n",
              "            '<a target=\"_blank\" href=https://colab.research.google.com/notebooks/data_table.ipynb>data table notebook</a>'\n",
              "            + ' to learn more about interactive tables.';\n",
              "          element.innerHTML = '';\n",
              "          dataTable['output_type'] = 'display_data';\n",
              "          await google.colab.output.renderOutput(dataTable, element);\n",
              "          const docLink = document.createElement('div');\n",
              "          docLink.innerHTML = docLinkHtml;\n",
              "          element.appendChild(docLink);\n",
              "        }\n",
              "      </script>\n",
              "    </div>\n",
              "  </div>\n",
              "  "
            ],
            "text/plain": [
              "         slug symbol     name  ...  high_log   low_log  close_log\n",
              "0     bitcoin    BTC  Bitcoin  ...  4.919835  4.891101   4.906829\n",
              "1     bitcoin    BTC  Bitcoin  ...  5.000518  4.905275   4.980451\n",
              "2     bitcoin    BTC  Bitcoin  ...  4.996739  4.905645   4.941642\n",
              "3     bitcoin    BTC  Bitcoin  ...  4.947979  4.688776   4.770600\n",
              "4     bitcoin    BTC  Bitcoin  ...  4.841033  4.535606   4.665418\n",
              "...       ...    ...      ...  ...       ...       ...        ...\n",
              "2037  bitcoin    BTC  Bitcoin  ...  8.324062  8.184809   8.296788\n",
              "2038  bitcoin    BTC  Bitcoin  ...  8.320726  8.201090   8.237514\n",
              "2039  bitcoin    BTC  Bitcoin  ...  8.259448  8.205767   8.248456\n",
              "2040  bitcoin    BTC  Bitcoin  ...  8.386378  8.248914   8.356653\n",
              "2041  bitcoin    BTC  Bitcoin  ...  8.392541  8.330085   8.361673\n",
              "\n",
              "[2042 rows x 17 columns]"
            ]
          },
          "metadata": {},
          "execution_count": 113
        }
      ]
    },
    {
      "cell_type": "code",
      "source": [
        "# import matplotlib.dates as mdates\n",
        "# import numpy as np\n",
        "\n",
        "years = mdates.YearLocator()   # every year\n",
        "months = mdates.MonthLocator()  # every month\n",
        "years_fmt = mdates.DateFormatter('%Y')\n",
        "\n",
        "fig, ((ax1, ax2), (ax3, ax4)) = plt.subplots(2,2)\n",
        "ax1.plot('date', 'open', data=data_bitcoin)\n",
        "ax2.plot('date', 'high', data=data_bitcoin)\n",
        "ax3.plot('date', 'low', data=data_bitcoin)\n",
        "ax4.plot('date', 'close', data=data_bitcoin)\n",
        "\n",
        "fig, ((ax1, ax2), (ax3, ax4)) = plt.subplots(2,2)\n",
        "ax1.plot('date', 'open_log', data=data_bitcoin)\n",
        "ax2.plot('date', 'high_log', data=data_bitcoin)\n",
        "ax3.plot('date', 'low_log', data=data_bitcoin)\n",
        "ax4.plot('date', 'close_log', data=data_bitcoin)\n",
        "\n",
        "\n",
        "# fig, ((ax1, ax2), (ax3, ax4)) = plt.subplots(2,2)\n",
        "# ax1.plot('date', 'open_log_10', data=data_bitcoin)\n",
        "# ax2.plot('date', 'high_log_10', data=data_bitcoin)\n",
        "# ax3.plot('date', 'low_log_10', data=data_bitcoin)\n",
        "# ax4.plot('date', 'close_log_10', data=data_bitcoin)\n",
        "\n",
        "# # format the ticks\n",
        "# ax.xaxis.set_major_locator(years)\n",
        "# ax.xaxis.set_major_formatter(years_fmt)\n",
        "# ax.xaxis.set_minor_locator(months)\n",
        "\n",
        "# ax.format_xdata = mdates.DateFormatter('%Y-%m-%d')\n",
        "# ax.grid(True)\n",
        "# fig.autofmt_xdate()\n",
        "\n",
        "# plt.show()"
      ],
      "metadata": {
        "id": "wTn7Ce4ghn7n"
      },
      "execution_count": null,
      "outputs": []
    },
    {
      "cell_type": "code",
      "source": [
        "data_bitcoin.columns"
      ],
      "metadata": {
        "colab": {
          "base_uri": "https://localhost:8080/"
        },
        "id": "rMufnkVPfwDc",
        "outputId": "09df3432-6d75-4822-dadb-637ba82ce843"
      },
      "execution_count": null,
      "outputs": [
        {
          "output_type": "execute_result",
          "data": {
            "text/plain": [
              "Index(['slug', 'symbol', 'name', 'date', 'ranknow', 'open', 'high', 'low',\n",
              "       'close', 'volume', 'market', 'close_ratio', 'spread', 'open_log',\n",
              "       'high_log', 'low_log', 'close_log'],\n",
              "      dtype='object')"
            ]
          },
          "metadata": {},
          "execution_count": 114
        }
      ]
    },
    {
      "cell_type": "code",
      "source": [
        "# let us see the trends of Bitcoin price since 2013\n",
        "data_bitcoin[['open','high','low','close']].plot(figsize=(16,8))\n",
        "plt.show()\n",
        "# #since 2017, the Bitcoin price has a rocket speed,let us see closer\n",
        "# Bitcoin_price1718 = df[df['name']=='Bitcoin'].loc['2017':]\n",
        "# Bitcoin_price1718[['open','high','low','close']].plot(figsize=(16,8))\n",
        "# plt.show()"
      ],
      "metadata": {
        "colab": {
          "base_uri": "https://localhost:8080/",
          "height": 485
        },
        "id": "f59_6SmlbLUg",
        "outputId": "84fdb1d7-30ad-487e-a4fa-24588025dc31"
      },
      "execution_count": null,
      "outputs": [
        {
          "output_type": "display_data",
          "data": {
            "image/png": "[encoded data removed]",
            "text/plain": [
              "<Figure size 1152x576 with 1 Axes>"
            ]
          },
          "metadata": {}
        }
      ]
    },
    {
      "cell_type": "code",
      "source": [
        "data_bitcoin_work = data_bitcoin.copy()"
      ],
      "metadata": {
        "id": "FHdBrzLypzZc"
      },
      "execution_count": null,
      "outputs": []
    },
    {
      "cell_type": "code",
      "source": [
        "data_bitcoin_work"
      ],
      "metadata": {
        "colab": {
          "base_uri": "https://localhost:8080/",
          "height": 423
        },
        "id": "JhUvPWSXc9Dy",
        "outputId": "a6aa25e5-18f0-48da-db0f-577da8201deb"
      },
      "execution_count": null,
      "outputs": [
        {
          "output_type": "execute_result",
          "data": {
            "text/html": [
              "\n",
              "  <div id=\"df-bcd385f7-9a32-420c-b1cc-713198e88d5f\">\n",
              "    <div class=\"colab-df-container\">\n",
              "      <div>\n",
              "<style scoped>\n",
              "    .dataframe tbody tr th:only-of-type {\n",
              "        vertical-align: middle;\n",
              "    }\n",
              "\n",
              "    .dataframe tbody tr th {\n",
              "        vertical-align: top;\n",
              "    }\n",
              "\n",
              "    .dataframe thead th {\n",
              "        text-align: right;\n",
              "    }\n",
              "</style>\n",
              "<table border=\"1\" class=\"dataframe\">\n",
              "  <thead>\n",
              "    <tr style=\"text-align: right;\">\n",
              "      <th></th>\n",
              "      <th>slug</th>\n",
              "      <th>symbol</th>\n",
              "      <th>name</th>\n",
              "      <th>date</th>\n",
              "      <th>ranknow</th>\n",
              "      <th>open</th>\n",
              "      <th>high</th>\n",
              "      <th>low</th>\n",
              "      <th>close</th>\n",
              "      <th>volume</th>\n",
              "      <th>market</th>\n",
              "      <th>close_ratio</th>\n",
              "      <th>spread</th>\n",
              "      <th>open_log</th>\n",
              "      <th>high_log</th>\n",
              "      <th>low_log</th>\n",
              "      <th>close_log</th>\n",
              "    </tr>\n",
              "  </thead>\n",
              "  <tbody>\n",
              "    <tr>\n",
              "      <th>0</th>\n",
              "      <td>bitcoin</td>\n",
              "      <td>BTC</td>\n",
              "      <td>Bitcoin</td>\n",
              "      <td>2013-04-28</td>\n",
              "      <td>1</td>\n",
              "      <td>135.30</td>\n",
              "      <td>135.98</td>\n",
              "      <td>132.10</td>\n",
              "      <td>134.21</td>\n",
              "      <td>0.000000e+00</td>\n",
              "      <td>1.488567e+09</td>\n",
              "      <td>0.5438</td>\n",
              "      <td>3.88</td>\n",
              "      <td>4.914858</td>\n",
              "      <td>4.919835</td>\n",
              "      <td>4.891101</td>\n",
              "      <td>4.906829</td>\n",
              "    </tr>\n",
              "    <tr>\n",
              "      <th>1</th>\n",
              "      <td>bitcoin</td>\n",
              "      <td>BTC</td>\n",
              "      <td>Bitcoin</td>\n",
              "      <td>2013-04-29</td>\n",
              "      <td>1</td>\n",
              "      <td>134.44</td>\n",
              "      <td>147.49</td>\n",
              "      <td>134.00</td>\n",
              "      <td>144.54</td>\n",
              "      <td>0.000000e+00</td>\n",
              "      <td>1.603769e+09</td>\n",
              "      <td>0.7813</td>\n",
              "      <td>13.49</td>\n",
              "      <td>4.908529</td>\n",
              "      <td>5.000518</td>\n",
              "      <td>4.905275</td>\n",
              "      <td>4.980451</td>\n",
              "    </tr>\n",
              "    <tr>\n",
              "      <th>2</th>\n",
              "      <td>bitcoin</td>\n",
              "      <td>BTC</td>\n",
              "      <td>Bitcoin</td>\n",
              "      <td>2013-04-30</td>\n",
              "      <td>1</td>\n",
              "      <td>144.00</td>\n",
              "      <td>146.93</td>\n",
              "      <td>134.05</td>\n",
              "      <td>139.00</td>\n",
              "      <td>0.000000e+00</td>\n",
              "      <td>1.542813e+09</td>\n",
              "      <td>0.3843</td>\n",
              "      <td>12.88</td>\n",
              "      <td>4.976734</td>\n",
              "      <td>4.996739</td>\n",
              "      <td>4.905645</td>\n",
              "      <td>4.941642</td>\n",
              "    </tr>\n",
              "    <tr>\n",
              "      <th>3</th>\n",
              "      <td>bitcoin</td>\n",
              "      <td>BTC</td>\n",
              "      <td>Bitcoin</td>\n",
              "      <td>2013-05-01</td>\n",
              "      <td>1</td>\n",
              "      <td>139.00</td>\n",
              "      <td>139.89</td>\n",
              "      <td>107.72</td>\n",
              "      <td>116.99</td>\n",
              "      <td>0.000000e+00</td>\n",
              "      <td>1.298955e+09</td>\n",
              "      <td>0.2882</td>\n",
              "      <td>32.17</td>\n",
              "      <td>4.941642</td>\n",
              "      <td>4.947979</td>\n",
              "      <td>4.688776</td>\n",
              "      <td>4.770600</td>\n",
              "    </tr>\n",
              "    <tr>\n",
              "      <th>4</th>\n",
              "      <td>bitcoin</td>\n",
              "      <td>BTC</td>\n",
              "      <td>Bitcoin</td>\n",
              "      <td>2013-05-02</td>\n",
              "      <td>1</td>\n",
              "      <td>116.38</td>\n",
              "      <td>125.60</td>\n",
              "      <td>92.28</td>\n",
              "      <td>105.21</td>\n",
              "      <td>0.000000e+00</td>\n",
              "      <td>1.168517e+09</td>\n",
              "      <td>0.3881</td>\n",
              "      <td>33.32</td>\n",
              "      <td>4.765417</td>\n",
              "      <td>4.841033</td>\n",
              "      <td>4.535606</td>\n",
              "      <td>4.665418</td>\n",
              "    </tr>\n",
              "    <tr>\n",
              "      <th>...</th>\n",
              "      <td>...</td>\n",
              "      <td>...</td>\n",
              "      <td>...</td>\n",
              "      <td>...</td>\n",
              "      <td>...</td>\n",
              "      <td>...</td>\n",
              "      <td>...</td>\n",
              "      <td>...</td>\n",
              "      <td>...</td>\n",
              "      <td>...</td>\n",
              "      <td>...</td>\n",
              "      <td>...</td>\n",
              "      <td>...</td>\n",
              "      <td>...</td>\n",
              "      <td>...</td>\n",
              "      <td>...</td>\n",
              "      <td>...</td>\n",
              "    </tr>\n",
              "    <tr>\n",
              "      <th>2037</th>\n",
              "      <td>bitcoin</td>\n",
              "      <td>BTC</td>\n",
              "      <td>Bitcoin</td>\n",
              "      <td>2018-11-25</td>\n",
              "      <td>1</td>\n",
              "      <td>3880.78</td>\n",
              "      <td>4120.87</td>\n",
              "      <td>3585.06</td>\n",
              "      <td>4009.97</td>\n",
              "      <td>6.825640e+09</td>\n",
              "      <td>6.974927e+10</td>\n",
              "      <td>0.7930</td>\n",
              "      <td>535.81</td>\n",
              "      <td>8.264049</td>\n",
              "      <td>8.324062</td>\n",
              "      <td>8.184809</td>\n",
              "      <td>8.296788</td>\n",
              "    </tr>\n",
              "    <tr>\n",
              "      <th>2038</th>\n",
              "      <td>bitcoin</td>\n",
              "      <td>BTC</td>\n",
              "      <td>Bitcoin</td>\n",
              "      <td>2018-11-26</td>\n",
              "      <td>1</td>\n",
              "      <td>4015.07</td>\n",
              "      <td>4107.14</td>\n",
              "      <td>3643.92</td>\n",
              "      <td>3779.13</td>\n",
              "      <td>6.476900e+09</td>\n",
              "      <td>6.573929e+10</td>\n",
              "      <td>0.2919</td>\n",
              "      <td>463.22</td>\n",
              "      <td>8.298059</td>\n",
              "      <td>8.320726</td>\n",
              "      <td>8.201090</td>\n",
              "      <td>8.237514</td>\n",
              "    </tr>\n",
              "    <tr>\n",
              "      <th>2039</th>\n",
              "      <td>bitcoin</td>\n",
              "      <td>BTC</td>\n",
              "      <td>Bitcoin</td>\n",
              "      <td>2018-11-27</td>\n",
              "      <td>1</td>\n",
              "      <td>3765.95</td>\n",
              "      <td>3862.96</td>\n",
              "      <td>3661.01</td>\n",
              "      <td>3820.72</td>\n",
              "      <td>5.998720e+09</td>\n",
              "      <td>6.646897e+10</td>\n",
              "      <td>0.7908</td>\n",
              "      <td>201.95</td>\n",
              "      <td>8.234021</td>\n",
              "      <td>8.259448</td>\n",
              "      <td>8.205767</td>\n",
              "      <td>8.248456</td>\n",
              "    </tr>\n",
              "    <tr>\n",
              "      <th>2040</th>\n",
              "      <td>bitcoin</td>\n",
              "      <td>BTC</td>\n",
              "      <td>Bitcoin</td>\n",
              "      <td>2018-11-28</td>\n",
              "      <td>1</td>\n",
              "      <td>3822.47</td>\n",
              "      <td>4385.90</td>\n",
              "      <td>3822.47</td>\n",
              "      <td>4257.42</td>\n",
              "      <td>7.280280e+09</td>\n",
              "      <td>7.407256e+10</td>\n",
              "      <td>0.7720</td>\n",
              "      <td>563.43</td>\n",
              "      <td>8.248914</td>\n",
              "      <td>8.386378</td>\n",
              "      <td>8.248914</td>\n",
              "      <td>8.356653</td>\n",
              "    </tr>\n",
              "    <tr>\n",
              "      <th>2041</th>\n",
              "      <td>bitcoin</td>\n",
              "      <td>BTC</td>\n",
              "      <td>Bitcoin</td>\n",
              "      <td>2018-11-29</td>\n",
              "      <td>1</td>\n",
              "      <td>4269.00</td>\n",
              "      <td>4413.02</td>\n",
              "      <td>4145.77</td>\n",
              "      <td>4278.85</td>\n",
              "      <td>6.503348e+09</td>\n",
              "      <td>7.445102e+10</td>\n",
              "      <td>0.4980</td>\n",
              "      <td>267.25</td>\n",
              "      <td>8.359369</td>\n",
              "      <td>8.392541</td>\n",
              "      <td>8.330085</td>\n",
              "      <td>8.361673</td>\n",
              "    </tr>\n",
              "  </tbody>\n",
              "</table>\n",
              "<p>2042 rows × 17 columns</p>\n",
              "</div>\n",
              "      <button class=\"colab-df-convert\" onclick=\"convertToInteractive('df-bcd385f7-9a32-420c-b1cc-713198e88d5f')\"\n",
              "              title=\"Convert this dataframe to an interactive table.\"\n",
              "              style=\"display:none;\">\n",
              "        \n",
              "  <svg xmlns=\"http://www.w3.org/2000/svg\" height=\"24px\"viewBox=\"0 0 24 24\"\n",
              "       width=\"24px\">\n",
              "    <path d=\"M0 0h24v24H0V0z\" fill=\"none\"/>\n",
              "    <path d=\"M18.56 5.44l.94 2.06.94-2.06 2.06-.94-2.06-.94-.94-2.06-.94 2.06-2.06.94zm-11 1L8.5 8.5l.94-2.06 2.06-.94-2.06-.94L8.5 2.5l-.94 2.06-2.06.94zm10 10l.94 2.06.94-2.06 2.06-.94-2.06-.94-.94-2.06-.94 2.06-2.06.94z\"/><path d=\"M17.41 7.96l-1.37-1.37c-.4-.4-.92-.59-1.43-.59-.52 0-1.04.2-1.43.59L10.3 9.45l-7.72 7.72c-.78.78-.78 2.05 0 2.83L4 21.41c.39.39.9.59 1.41.59.51 0 1.02-.2 1.41-.59l7.78-7.78 2.81-2.81c.8-.78.8-2.07 0-2.86zM5.41 20L4 18.59l7.72-7.72 1.47 1.35L5.41 20z\"/>\n",
              "  </svg>\n",
              "      </button>\n",
              "      \n",
              "  <style>\n",
              "    .colab-df-container {\n",
              "      display:flex;\n",
              "      flex-wrap:wrap;\n",
              "      gap: 12px;\n",
              "    }\n",
              "\n",
              "    .colab-df-convert {\n",
              "      background-color: #E8F0FE;\n",
              "      border: none;\n",
              "      border-radius: 50%;\n",
              "      cursor: pointer;\n",
              "      display: none;\n",
              "      fill: #1967D2;\n",
              "      height: 32px;\n",
              "      padding: 0 0 0 0;\n",
              "      width: 32px;\n",
              "    }\n",
              "\n",
              "    .colab-df-convert:hover {\n",
              "      background-color: #E2EBFA;\n",
              "      box-shadow: 0px 1px 2px rgba(60, 64, 67, 0.3), 0px 1px 3px 1px rgba(60, 64, 67, 0.15);\n",
              "      fill: #174EA6;\n",
              "    }\n",
              "\n",
              "    [theme=dark] .colab-df-convert {\n",
              "      background-color: #3B4455;\n",
              "      fill: #D2E3FC;\n",
              "    }\n",
              "\n",
              "    [theme=dark] .colab-df-convert:hover {\n",
              "      background-color: #434B5C;\n",
              "      box-shadow: 0px 1px 3px 1px rgba(0, 0, 0, 0.15);\n",
              "      filter: drop-shadow(0px 1px 2px rgba(0, 0, 0, 0.3));\n",
              "      fill: #FFFFFF;\n",
              "    }\n",
              "  </style>\n",
              "\n",
              "      <script>\n",
              "        const buttonEl =\n",
              "          document.querySelector('#df-bcd385f7-9a32-420c-b1cc-713198e88d5f button.colab-df-convert');\n",
              "        buttonEl.style.display =\n",
              "          google.colab.kernel.accessAllowed ? 'block' : 'none';\n",
              "\n",
              "        async function convertToInteractive(key) {\n",
              "          const element = document.querySelector('#df-bcd385f7-9a32-420c-b1cc-713198e88d5f');\n",
              "          const dataTable =\n",
              "            await google.colab.kernel.invokeFunction('convertToInteractive',\n",
              "                                                     [key], {});\n",
              "          if (!dataTable) return;\n",
              "\n",
              "          const docLinkHtml = 'Like what you see? Visit the ' +\n",
              "            '<a target=\"_blank\" href=https://colab.research.google.com/notebooks/data_table.ipynb>data table notebook</a>'\n",
              "            + ' to learn more about interactive tables.';\n",
              "          element.innerHTML = '';\n",
              "          dataTable['output_type'] = 'display_data';\n",
              "          await google.colab.output.renderOutput(dataTable, element);\n",
              "          const docLink = document.createElement('div');\n",
              "          docLink.innerHTML = docLinkHtml;\n",
              "          element.appendChild(docLink);\n",
              "        }\n",
              "      </script>\n",
              "    </div>\n",
              "  </div>\n",
              "  "
            ],
            "text/plain": [
              "         slug symbol     name  ...  high_log   low_log  close_log\n",
              "0     bitcoin    BTC  Bitcoin  ...  4.919835  4.891101   4.906829\n",
              "1     bitcoin    BTC  Bitcoin  ...  5.000518  4.905275   4.980451\n",
              "2     bitcoin    BTC  Bitcoin  ...  4.996739  4.905645   4.941642\n",
              "3     bitcoin    BTC  Bitcoin  ...  4.947979  4.688776   4.770600\n",
              "4     bitcoin    BTC  Bitcoin  ...  4.841033  4.535606   4.665418\n",
              "...       ...    ...      ...  ...       ...       ...        ...\n",
              "2037  bitcoin    BTC  Bitcoin  ...  8.324062  8.184809   8.296788\n",
              "2038  bitcoin    BTC  Bitcoin  ...  8.320726  8.201090   8.237514\n",
              "2039  bitcoin    BTC  Bitcoin  ...  8.259448  8.205767   8.248456\n",
              "2040  bitcoin    BTC  Bitcoin  ...  8.386378  8.248914   8.356653\n",
              "2041  bitcoin    BTC  Bitcoin  ...  8.392541  8.330085   8.361673\n",
              "\n",
              "[2042 rows x 17 columns]"
            ]
          },
          "metadata": {},
          "execution_count": 117
        }
      ]
    },
    {
      "cell_type": "code",
      "source": [
        "data_bitcoin_work.columns"
      ],
      "metadata": {
        "colab": {
          "base_uri": "https://localhost:8080/"
        },
        "id": "JIG6QPvAo3wW",
        "outputId": "39f27005-d685-4390-baf4-a40c1d6ca0a3"
      },
      "execution_count": null,
      "outputs": [
        {
          "output_type": "execute_result",
          "data": {
            "text/plain": [
              "Index(['slug', 'symbol', 'name', 'date', 'ranknow', 'open', 'high', 'low',\n",
              "       'close', 'volume', 'market', 'close_ratio', 'spread', 'open_log',\n",
              "       'high_log', 'low_log', 'close_log'],\n",
              "      dtype='object')"
            ]
          },
          "metadata": {},
          "execution_count": 118
        }
      ]
    },
    {
      "cell_type": "code",
      "source": [
        "data_bitcoin_work.drop(['slug','symbol','name','ranknow','close_ratio','open_log','high_log', 'low_log', 'close_log'],axis=1,inplace=True)\n",
        "data_bitcoin_work.tail()"
      ],
      "metadata": {
        "colab": {
          "base_uri": "https://localhost:8080/",
          "height": 206
        },
        "id": "OveVsemPhsjG",
        "outputId": "f580230e-b67f-48bd-c88e-959044433a75"
      },
      "execution_count": null,
      "outputs": [
        {
          "output_type": "execute_result",
          "data": {
            "text/html": [
              "\n",
              "  <div id=\"df-342f8bc9-fcdb-47a8-bf9f-9a6559165c2b\">\n",
              "    <div class=\"colab-df-container\">\n",
              "      <div>\n",
              "<style scoped>\n",
              "    .dataframe tbody tr th:only-of-type {\n",
              "        vertical-align: middle;\n",
              "    }\n",
              "\n",
              "    .dataframe tbody tr th {\n",
              "        vertical-align: top;\n",
              "    }\n",
              "\n",
              "    .dataframe thead th {\n",
              "        text-align: right;\n",
              "    }\n",
              "</style>\n",
              "<table border=\"1\" class=\"dataframe\">\n",
              "  <thead>\n",
              "    <tr style=\"text-align: right;\">\n",
              "      <th></th>\n",
              "      <th>date</th>\n",
              "      <th>open</th>\n",
              "      <th>high</th>\n",
              "      <th>low</th>\n",
              "      <th>close</th>\n",
              "      <th>volume</th>\n",
              "      <th>market</th>\n",
              "      <th>spread</th>\n",
              "    </tr>\n",
              "  </thead>\n",
              "  <tbody>\n",
              "    <tr>\n",
              "      <th>2037</th>\n",
              "      <td>2018-11-25</td>\n",
              "      <td>3880.78</td>\n",
              "      <td>4120.87</td>\n",
              "      <td>3585.06</td>\n",
              "      <td>4009.97</td>\n",
              "      <td>6.825640e+09</td>\n",
              "      <td>6.974927e+10</td>\n",
              "      <td>535.81</td>\n",
              "    </tr>\n",
              "    <tr>\n",
              "      <th>2038</th>\n",
              "      <td>2018-11-26</td>\n",
              "      <td>4015.07</td>\n",
              "      <td>4107.14</td>\n",
              "      <td>3643.92</td>\n",
              "      <td>3779.13</td>\n",
              "      <td>6.476900e+09</td>\n",
              "      <td>6.573929e+10</td>\n",
              "      <td>463.22</td>\n",
              "    </tr>\n",
              "    <tr>\n",
              "      <th>2039</th>\n",
              "      <td>2018-11-27</td>\n",
              "      <td>3765.95</td>\n",
              "      <td>3862.96</td>\n",
              "      <td>3661.01</td>\n",
              "      <td>3820.72</td>\n",
              "      <td>5.998720e+09</td>\n",
              "      <td>6.646897e+10</td>\n",
              "      <td>201.95</td>\n",
              "    </tr>\n",
              "    <tr>\n",
              "      <th>2040</th>\n",
              "      <td>2018-11-28</td>\n",
              "      <td>3822.47</td>\n",
              "      <td>4385.90</td>\n",
              "      <td>3822.47</td>\n",
              "      <td>4257.42</td>\n",
              "      <td>7.280280e+09</td>\n",
              "      <td>7.407256e+10</td>\n",
              "      <td>563.43</td>\n",
              "    </tr>\n",
              "    <tr>\n",
              "      <th>2041</th>\n",
              "      <td>2018-11-29</td>\n",
              "      <td>4269.00</td>\n",
              "      <td>4413.02</td>\n",
              "      <td>4145.77</td>\n",
              "      <td>4278.85</td>\n",
              "      <td>6.503348e+09</td>\n",
              "      <td>7.445102e+10</td>\n",
              "      <td>267.25</td>\n",
              "    </tr>\n",
              "  </tbody>\n",
              "</table>\n",
              "</div>\n",
              "      <button class=\"colab-df-convert\" onclick=\"convertToInteractive('df-342f8bc9-fcdb-47a8-bf9f-9a6559165c2b')\"\n",
              "              title=\"Convert this dataframe to an interactive table.\"\n",
              "              style=\"display:none;\">\n",
              "        \n",
              "  <svg xmlns=\"http://www.w3.org/2000/svg\" height=\"24px\"viewBox=\"0 0 24 24\"\n",
              "       width=\"24px\">\n",
              "    <path d=\"M0 0h24v24H0V0z\" fill=\"none\"/>\n",
              "    <path d=\"M18.56 5.44l.94 2.06.94-2.06 2.06-.94-2.06-.94-.94-2.06-.94 2.06-2.06.94zm-11 1L8.5 8.5l.94-2.06 2.06-.94-2.06-.94L8.5 2.5l-.94 2.06-2.06.94zm10 10l.94 2.06.94-2.06 2.06-.94-2.06-.94-.94-2.06-.94 2.06-2.06.94z\"/><path d=\"M17.41 7.96l-1.37-1.37c-.4-.4-.92-.59-1.43-.59-.52 0-1.04.2-1.43.59L10.3 9.45l-7.72 7.72c-.78.78-.78 2.05 0 2.83L4 21.41c.39.39.9.59 1.41.59.51 0 1.02-.2 1.41-.59l7.78-7.78 2.81-2.81c.8-.78.8-2.07 0-2.86zM5.41 20L4 18.59l7.72-7.72 1.47 1.35L5.41 20z\"/>\n",
              "  </svg>\n",
              "      </button>\n",
              "      \n",
              "  <style>\n",
              "    .colab-df-container {\n",
              "      display:flex;\n",
              "      flex-wrap:wrap;\n",
              "      gap: 12px;\n",
              "    }\n",
              "\n",
              "    .colab-df-convert {\n",
              "      background-color: #E8F0FE;\n",
              "      border: none;\n",
              "      border-radius: 50%;\n",
              "      cursor: pointer;\n",
              "      display: none;\n",
              "      fill: #1967D2;\n",
              "      height: 32px;\n",
              "      padding: 0 0 0 0;\n",
              "      width: 32px;\n",
              "    }\n",
              "\n",
              "    .colab-df-convert:hover {\n",
              "      background-color: #E2EBFA;\n",
              "      box-shadow: 0px 1px 2px rgba(60, 64, 67, 0.3), 0px 1px 3px 1px rgba(60, 64, 67, 0.15);\n",
              "      fill: #174EA6;\n",
              "    }\n",
              "\n",
              "    [theme=dark] .colab-df-convert {\n",
              "      background-color: #3B4455;\n",
              "      fill: #D2E3FC;\n",
              "    }\n",
              "\n",
              "    [theme=dark] .colab-df-convert:hover {\n",
              "      background-color: #434B5C;\n",
              "      box-shadow: 0px 1px 3px 1px rgba(0, 0, 0, 0.15);\n",
              "      filter: drop-shadow(0px 1px 2px rgba(0, 0, 0, 0.3));\n",
              "      fill: #FFFFFF;\n",
              "    }\n",
              "  </style>\n",
              "\n",
              "      <script>\n",
              "        const buttonEl =\n",
              "          document.querySelector('#df-342f8bc9-fcdb-47a8-bf9f-9a6559165c2b button.colab-df-convert');\n",
              "        buttonEl.style.display =\n",
              "          google.colab.kernel.accessAllowed ? 'block' : 'none';\n",
              "\n",
              "        async function convertToInteractive(key) {\n",
              "          const element = document.querySelector('#df-342f8bc9-fcdb-47a8-bf9f-9a6559165c2b');\n",
              "          const dataTable =\n",
              "            await google.colab.kernel.invokeFunction('convertToInteractive',\n",
              "                                                     [key], {});\n",
              "          if (!dataTable) return;\n",
              "\n",
              "          const docLinkHtml = 'Like what you see? Visit the ' +\n",
              "            '<a target=\"_blank\" href=https://colab.research.google.com/notebooks/data_table.ipynb>data table notebook</a>'\n",
              "            + ' to learn more about interactive tables.';\n",
              "          element.innerHTML = '';\n",
              "          dataTable['output_type'] = 'display_data';\n",
              "          await google.colab.output.renderOutput(dataTable, element);\n",
              "          const docLink = document.createElement('div');\n",
              "          docLink.innerHTML = docLinkHtml;\n",
              "          element.appendChild(docLink);\n",
              "        }\n",
              "      </script>\n",
              "    </div>\n",
              "  </div>\n",
              "  "
            ],
            "text/plain": [
              "            date     open     high  ...        volume        market  spread\n",
              "2037  2018-11-25  3880.78  4120.87  ...  6.825640e+09  6.974927e+10  535.81\n",
              "2038  2018-11-26  4015.07  4107.14  ...  6.476900e+09  6.573929e+10  463.22\n",
              "2039  2018-11-27  3765.95  3862.96  ...  5.998720e+09  6.646897e+10  201.95\n",
              "2040  2018-11-28  3822.47  4385.90  ...  7.280280e+09  7.407256e+10  563.43\n",
              "2041  2018-11-29  4269.00  4413.02  ...  6.503348e+09  7.445102e+10  267.25\n",
              "\n",
              "[5 rows x 8 columns]"
            ]
          },
          "metadata": {},
          "execution_count": 119
        }
      ]
    },
    {
      "cell_type": "code",
      "source": [
        "import numpy as np\n",
        "import matplotlib.pyplot as plt\n",
        "import seaborn as sns\n",
        "import pandas as pd\n",
        "from sklearn.preprocessing import MinMaxScaler\n",
        "import time\n",
        "from datetime import datetime\n",
        "from datetime import timedelta\n",
        "from sklearn.ensemble import *\n",
        "from sklearn.tree import *\n",
        "sns.set()"
      ],
      "metadata": {
        "id": "IioaN5FGxQvZ"
      },
      "execution_count": null,
      "outputs": []
    },
    {
      "cell_type": "code",
      "source": [
        "data_bitcoin_work['close'].plot(figsize=(12,6),label='Close')\n",
        "data_bitcoin_work['close'].rolling(window=30).mean().plot(label='30 Day Avg')\n",
        "plt.legend()"
      ],
      "metadata": {
        "colab": {
          "base_uri": "https://localhost:8080/",
          "height": 394
        },
        "outputId": "7e2f8f93-3d4b-4e20-fc29-436c9191eb70",
        "id": "vsgftJeCxQva"
      },
      "execution_count": null,
      "outputs": [
        {
          "output_type": "execute_result",
          "data": {
            "text/plain": [
              "<matplotlib.legend.Legend at 0x7f2978de1b90>"
            ]
          },
          "metadata": {},
          "execution_count": 79
        },
        {
          "output_type": "display_data",
          "data": {
            "image/png": "[encoded data removed]",
            "text/plain": [
              "<Figure size 864x432 with 1 Axes>"
            ]
          },
          "metadata": {}
        }
      ]
    },
    {
      "cell_type": "code",
      "source": [
        "data_bitcoin_work.dtypes\n",
        "data_bitcoin_work['date'] = pd.to_datetime(df['date'], format='%Y-%m-%d')\n",
        "print(data_bitcoin_work.dtypes)"
      ],
      "metadata": {
        "colab": {
          "base_uri": "https://localhost:8080/"
        },
        "outputId": "539622a0-6598-4528-d4ff-f78f66242b18",
        "id": "t4LQN1eYxQva"
      },
      "execution_count": null,
      "outputs": [
        {
          "output_type": "stream",
          "name": "stdout",
          "text": [
            "date      datetime64[ns]\n",
            "open             float64\n",
            "high             float64\n",
            "low              float64\n",
            "close            float64\n",
            "volume           float64\n",
            "market           float64\n",
            "spread           float64\n",
            "dtype: object\n"
          ]
        }
      ]
    },
    {
      "cell_type": "code",
      "source": [
        "data_bitcoin_1 = data_bitcoin_work[['date', 'open', 'high', 'low', 'close']].copy()"
      ],
      "metadata": {
        "id": "7YSSHfQ7xQva"
      },
      "execution_count": null,
      "outputs": []
    },
    {
      "cell_type": "code",
      "source": [
        "period = 30\n",
        "minmax = MinMaxScaler().fit(data_bitcoin_1.iloc[:, 3].values.reshape((-1,1)))\n",
        "close_normalize = minmax.transform(data_bitcoin_1.iloc[:, 3].values.reshape((-1,1)))\n",
        "normalized = pd.DataFrame(close_normalize)\n",
        "normalized['Price_After_period']=normalized[0].shift(-period)\n",
        "normalized.dropna(inplace=True)\n",
        "X=normalized.drop('Price_After_period',axis=1)\n",
        "print(normalized.head())\n",
        "y=normalized['Price_After_period']\n",
        "print(X.head())\n",
        "y.head()"
      ],
      "metadata": {
        "colab": {
          "base_uri": "https://localhost:8080/"
        },
        "outputId": "89fd315a-f408-4bd0-8686-406a8f8565ba",
        "id": "c_HDmOatxQva"
      },
      "execution_count": null,
      "outputs": [
        {
          "output_type": "stream",
          "name": "stdout",
          "text": [
            "          0  Price_After_period\n",
            "0  0.003521            0.003177\n",
            "1  0.003621            0.003286\n",
            "2  0.003624            0.003251\n",
            "3  0.002231            0.003219\n",
            "4  0.001415            0.003261\n",
            "          0\n",
            "0  0.003521\n",
            "1  0.003621\n",
            "2  0.003624\n",
            "3  0.002231\n",
            "4  0.001415\n"
          ]
        },
        {
          "output_type": "execute_result",
          "data": {
            "text/plain": [
              "0    0.003177\n",
              "1    0.003286\n",
              "2    0.003251\n",
              "3    0.003219\n",
              "4    0.003261\n",
              "Name: Price_After_period, dtype: float64"
            ]
          },
          "metadata": {},
          "execution_count": 82
        }
      ]
    },
    {
      "cell_type": "code",
      "source": [
        "from sklearn.model_selection import train_test_split\n",
        "train_X,test_X,train_Y,test_Y=train_test_split(X,y,test_size=0.2,random_state=101)"
      ],
      "metadata": {
        "id": "Xg5ynX3fxQva"
      },
      "execution_count": null,
      "outputs": []
    },
    {
      "cell_type": "code",
      "source": [
        "import xgboost as xgb\n",
        "import pandas as pd\n",
        "import numpy as np"
      ],
      "metadata": {
        "id": "57Y93RRwxQva"
      },
      "execution_count": null,
      "outputs": []
    },
    {
      "cell_type": "code",
      "source": [
        "import math\n",
        "from sklearn.metrics import *\n",
        "from tensorflow.keras.layers import Bidirectional, Dropout, Activation, Dense, LSTM\n",
        "from tensorflow.python.keras.layers import CuDNNLSTM\n",
        "from tensorflow.keras.models import Sequential"
      ],
      "metadata": {
        "id": "tqmk4OtBxQva"
      },
      "execution_count": null,
      "outputs": []
    },
    {
      "cell_type": "code",
      "source": [
        "from sklearn.ensemble import *\n",
        "rf = RandomForestRegressor(n_estimators=500, random_state=101)\n",
        "dt = DecisionTreeRegressor(random_state=101)"
      ],
      "metadata": {
        "id": "NgJvZ4_9xQva"
      },
      "execution_count": null,
      "outputs": []
    },
    {
      "cell_type": "code",
      "source": [
        "rf.fit(train_X, train_Y)\n",
        "dt.fit(train_X, train_Y)"
      ],
      "metadata": {
        "colab": {
          "base_uri": "https://localhost:8080/"
        },
        "outputId": "ae38dc78-f260-4721-c119-6ba073918471",
        "id": "UinE46GTxQva"
      },
      "execution_count": null,
      "outputs": [
        {
          "output_type": "execute_result",
          "data": {
            "text/plain": [
              "DecisionTreeRegressor(random_state=101)"
            ]
          },
          "metadata": {},
          "execution_count": 125
        }
      ]
    },
    {
      "cell_type": "code",
      "source": [
        "preds_rf = rf.predict(test_X)\n",
        "preds_dt = dt.predict(test_X)"
      ],
      "metadata": {
        "id": "2ok-qNRYxQva"
      },
      "execution_count": null,
      "outputs": []
    },
    {
      "cell_type": "code",
      "source": [
        "accuracy=dt.score(test_X, test_Y)\n",
        "accuracy=accuracy*100\n",
        "accuracy = float(\"{0:.4f}\".format(accuracy))\n",
        "print('Decision Tree Accuracy is:',accuracy,'%')\n",
        "print(\"Test data RMSE: \", math.sqrt(mean_squared_error(test_Y,preds_dt)))\n",
        "print(\"Test data MAE: \", mean_absolute_error(test_Y,preds_dt))"
      ],
      "metadata": {
        "colab": {
          "base_uri": "https://localhost:8080/"
        },
        "outputId": "731cd0e6-888f-4cc0-ba9a-b16ff518c674",
        "id": "o5BYAJDYxQva"
      },
      "execution_count": null,
      "outputs": [
        {
          "output_type": "stream",
          "name": "stdout",
          "text": [
            "Decision Tree Accuracy is: 84.1692 %\n",
            "Test data RMSE:  0.06719137529028987\n",
            "Test data MAE:  0.027296601606216154\n"
          ]
        }
      ]
    },
    {
      "cell_type": "code",
      "source": [
        "accuracy=rf.score(test_X, test_Y)\n",
        "accuracy=accuracy*100\n",
        "accuracy = float(\"{0:.4f}\".format(accuracy))\n",
        "print('Random Forest Accuracy is:',accuracy,'%')\n",
        "print(\"Test data RMSE: \", math.sqrt(mean_squared_error(test_Y,preds_rf)))\n",
        "print(\"Test data MAE: \", mean_absolute_error(test_Y,preds_rf))"
      ],
      "metadata": {
        "colab": {
          "base_uri": "https://localhost:8080/"
        },
        "outputId": "d3caf9ca-6559-4769-bcbb-eaf86db577c6",
        "id": "YuCV-hvRxQva"
      },
      "execution_count": null,
      "outputs": [
        {
          "output_type": "stream",
          "name": "stdout",
          "text": [
            "Random Forest Accuracy is: 90.0726 %\n",
            "Test data RMSE:  0.053208437997409624\n",
            "Test data MAE:  0.022986325113653252\n"
          ]
        }
      ]
    },
    {
      "cell_type": "code",
      "source": [
        "xg_reg = xgb.XGBRegressor(objective ='reg:linear', colsample_bytree = 0.3, learning_rate = 0.1,\n",
        "                max_depth = 5, alpha = 10, n_estimators = 10)"
      ],
      "metadata": {
        "id": "09nXbvxgxQvb"
      },
      "execution_count": null,
      "outputs": []
    },
    {
      "cell_type": "code",
      "source": [
        "xg_reg.fit(train_X,train_Y)\n",
        "preds = xg_reg.predict(test_X)"
      ],
      "metadata": {
        "colab": {
          "base_uri": "https://localhost:8080/"
        },
        "outputId": "6af63262-af0f-43d0-b8ef-c45184e1130d",
        "id": "aTp6k43ExQvb"
      },
      "execution_count": null,
      "outputs": [
        {
          "output_type": "stream",
          "name": "stdout",
          "text": [
            "[21:10:00] WARNING: /workspace/src/objective/regression_obj.cu:152: reg:linear is now deprecated in favor of reg:squarederror.\n"
          ]
        }
      ]
    },
    {
      "cell_type": "code",
      "source": [
        "rmse = np.sqrt(mean_squared_error(test_Y, preds))\n",
        "print(\"RMSE: %f\" % (rmse))\n",
        "mae = mean_absolute_error(test_Y, preds)\n",
        "print(\"MAE: %f\" % (mae))\n",
        "accuracy=xg_reg.score(test_X, test_Y)\n",
        "accuracy=accuracy*100\n",
        "accuracy = float(\"{0:.4f}\".format(accuracy))\n",
        "print('XGBoost Accuracy is:',accuracy,'%')"
      ],
      "metadata": {
        "colab": {
          "base_uri": "https://localhost:8080/"
        },
        "outputId": "3e619177-87e1-4263-8237-569fc83a5a91",
        "id": "60lrZlCjxQvb"
      },
      "execution_count": null,
      "outputs": [
        {
          "output_type": "stream",
          "name": "stdout",
          "text": [
            "RMSE: 0.154319\n",
            "MAE: 0.147927\n",
            "XGBoost Accuracy is: 16.4951 %\n"
          ]
        }
      ]
    },
    {
      "cell_type": "code",
      "source": [
        "##### LSTM\n",
        "model=Sequential()\n",
        "model.add(LSTM(10,input_shape=(None,1),activation=\"relu\"))\n",
        "model.add(Dense(1))\n",
        "model.compile(loss=\"mean_squared_error\",optimizer=\"adam\")"
      ],
      "metadata": {
        "id": "awVGH9OWxQvb"
      },
      "execution_count": null,
      "outputs": []
    },
    {
      "cell_type": "code",
      "source": [
        "history = model.fit(train_X,train_Y,validation_data=(test_X,test_Y),epochs=10,batch_size=16,verbose=1)"
      ],
      "metadata": {
        "colab": {
          "base_uri": "https://localhost:8080/"
        },
        "outputId": "9f2d719b-bba4-4518-f4e1-94592632010d",
        "id": "LmQr9BtTxQvb"
      },
      "execution_count": null,
      "outputs": [
        {
          "output_type": "stream",
          "name": "stdout",
          "text": [
            "Epoch 1/10\n",
            "101/101 [==============================] - 2s 6ms/step - loss: 0.0391 - val_loss: 0.0297\n",
            "Epoch 2/10\n",
            "101/101 [==============================] - 0s 3ms/step - loss: 0.0302 - val_loss: 0.0263\n",
            "Epoch 3/10\n",
            "101/101 [==============================] - 0s 3ms/step - loss: 0.0273 - val_loss: 0.0227\n",
            "Epoch 4/10\n",
            "101/101 [==============================] - 0s 3ms/step - loss: 0.0231 - val_loss: 0.0174\n",
            "Epoch 5/10\n",
            "101/101 [==============================] - 0s 3ms/step - loss: 0.0173 - val_loss: 0.0113\n",
            "Epoch 6/10\n",
            "101/101 [==============================] - 0s 3ms/step - loss: 0.0117 - val_loss: 0.0069\n",
            "Epoch 7/10\n",
            "101/101 [==============================] - 0s 3ms/step - loss: 0.0080 - val_loss: 0.0049\n",
            "Epoch 8/10\n",
            "101/101 [==============================] - 0s 2ms/step - loss: 0.0065 - val_loss: 0.0044\n",
            "Epoch 9/10\n",
            "101/101 [==============================] - 0s 3ms/step - loss: 0.0060 - val_loss: 0.0044\n",
            "Epoch 10/10\n",
            "101/101 [==============================] - 0s 3ms/step - loss: 0.0059 - val_loss: 0.0044\n"
          ]
        }
      ]
    },
    {
      "cell_type": "code",
      "source": [
        "import matplotlib.pyplot as plt\n",
        "\n",
        "loss = history.history['loss']\n",
        "val_loss = history.history['val_loss']\n",
        "\n",
        "epochs = range(len(loss))\n",
        "\n",
        "plt.plot(epochs, loss, 'r', label='Training loss')\n",
        "plt.plot(epochs, val_loss, 'b', label='Validation loss')\n",
        "plt.title('Training and validation loss')\n",
        "plt.legend(loc=0)\n",
        "plt.figure()\n",
        "\n",
        "\n",
        "plt.show()"
      ],
      "metadata": {
        "colab": {
          "base_uri": "https://localhost:8080/",
          "height": 302
        },
        "outputId": "ff7b462d-a5cc-49d5-b1d1-c5add200de3d",
        "id": "lREZ-yHpxQvb"
      },
      "execution_count": null,
      "outputs": [
        {
          "output_type": "display_data",
          "data": {
            "image/png": "[encoded data removed]",
            "text/plain": [
              "<Figure size 432x288 with 1 Axes>"
            ]
          },
          "metadata": {}
        },
        {
          "output_type": "display_data",
          "data": {
            "text/plain": [
              "<Figure size 432x288 with 0 Axes>"
            ]
          },
          "metadata": {}
        }
      ]
    },
    {
      "cell_type": "code",
      "source": [
        "train_predict=model.predict(train_X)\n",
        "test_predict=model.predict(test_X)\n",
        "train_predict.shape, test_predict.shape"
      ],
      "metadata": {
        "colab": {
          "base_uri": "https://localhost:8080/"
        },
        "outputId": "c1b4fe9a-b639-453c-9e84-199942a1e596",
        "id": "pSU6GehqxQvb"
      },
      "execution_count": null,
      "outputs": [
        {
          "output_type": "execute_result",
          "data": {
            "text/plain": [
              "((1609, 1), (403, 1))"
            ]
          },
          "metadata": {},
          "execution_count": 135
        }
      ]
    },
    {
      "cell_type": "code",
      "source": [
        "print(\"Train data RMSE: \", math.sqrt(mean_squared_error(train_Y,train_predict)))\n",
        "print(\"Train data MSE: \", mean_squared_error(train_Y,train_predict))\n",
        "print(\"Train data MAE: \", mean_absolute_error(train_Y,train_predict))\n",
        "print(\"-------------------------------------------------------------------------------------\")\n",
        "print(\"Test data RMSE: \", math.sqrt(mean_squared_error(test_Y,test_predict)))\n",
        "print(\"Test data MSE: \", mean_squared_error(test_Y,test_predict))\n",
        "print(\"Test data MAE: \", mean_absolute_error(test_Y,test_predict))"
      ],
      "metadata": {
        "colab": {
          "base_uri": "https://localhost:8080/"
        },
        "outputId": "c6319f24-f55b-4a3a-fb7b-4abd1db19a26",
        "id": "M4WEHmBgxQvb"
      },
      "execution_count": null,
      "outputs": [
        {
          "output_type": "stream",
          "name": "stdout",
          "text": [
            "Train data RMSE:  0.07617787812483748\n",
            "Train data MSE:  0.005803069115602593\n",
            "Train data MAE:  0.03847235160041683\n",
            "-------------------------------------------------------------------------------------\n",
            "Test data RMSE:  0.06660221662236981\n",
            "Test data MSE:  0.004435855259013075\n",
            "Test data MAE:  0.036157145705075416\n"
          ]
        }
      ]
    },
    {
      "cell_type": "code",
      "source": [
        "X_30 =X[-30:]\n",
        "forecast = dt.predict(X_30)\n",
        "\n",
        "from datetime import datetime,timedelta\n",
        "last_date = data_bitcoin_work.iloc[-1].name\n",
        "#last_date.to_datetime(df['date'], format='%Y-%m-%d')\n",
        "last_date = datetime.strptime(last_date, '%Y-%m-%d').date()\n",
        "modified_date = last_date + timedelta(days=1)\n",
        "date=pd.date_range(modified_date,periods=30,freq='D')\n",
        "df1=pd.DataFrame(forecast,columns=['Forecast'],index=date)\n",
        "data_bitcoin_work=data_bitcoin_work.append(df1)\n",
        "data_bitcoin_work.tail(30)\n",
        "# In real world ,The price of Bitcoin reached 18870 in Dec.16th,my prediction is 18401;\n",
        "# The next day,it went to 19458 in Dec.17th and my predicition is 18921;\n",
        "# It looks smart.\n",
        "\n",
        "#let us see what the baby looks like\n",
        "data_bitcoin_work['close'].plot(figsize=(16,8),label='Close',color = 'red')\n",
        "data_bitcoin_work['Forecast'].plot(label='forecast',color = 'blue')\n",
        "plt.legend()\n",
        "plt.show()"
      ],
      "metadata": {
        "id": "D1CZQk5MxPTF"
      },
      "execution_count": null,
      "outputs": []
    },
    {
      "cell_type": "code",
      "source": [
        "from datetime import datetime,timedelta\n",
        "last_date = data_bitcoin_work.iloc[-1].name\n",
        "#last_date.to_datetime(df['date'], format='%Y-%m-%d')\n",
        "last_date = datetime.strptime(last_date, '%Y-%m-%d').date()\n",
        "modified_date = last_date + timedelta(days=1)\n",
        "date=pd.date_range(modified_date,periods=30,freq='D')\n",
        "df1=pd.DataFrame(forecast,columns=['Forecast'],index=date)\n",
        "data_bitcoin_work=data_bitcoin_work.append(df1)\n",
        "data_bitcoin_work.tail(30)\n",
        "# In real world ,The price of Bitcoin reached 18870 in Dec.16th,my prediction is 18401;\n",
        "# The next day,it went to 19458 in Dec.17th and my predicition is 18921;\n",
        "# It looks smart.\n",
        "\n",
        "#let us see what the baby looks like\n",
        "data_bitcoin_work['close'].plot(figsize=(16,8),label='Close',color = 'red')\n",
        "data_bitcoin_work['Forecast'].plot(label='forecast',color = 'blue')\n",
        "plt.legend()\n",
        "plt.show()"
      ],
      "metadata": {
        "id": "zAcZhUwqwXNW"
      },
      "execution_count": null,
      "outputs": []
    },
    {
      "cell_type": "code",
      "source": [
        "xg_reg = xgb.XGBRegressor(objective ='reg:linear', colsample_bytree = 0.3, learning_rate = 0.1,\n",
        "                max_depth = 5, alpha = 10, n_estimators = 10)"
      ],
      "metadata": {
        "id": "C58cnV3Aqivp"
      },
      "execution_count": null,
      "outputs": []
    },
    {
      "cell_type": "code",
      "source": [
        "xg_reg.fit(X_train,y_train)\n",
        "preds = xg_reg.predict(X_test)"
      ],
      "metadata": {
        "id": "qAnciLmMqivq"
      },
      "execution_count": null,
      "outputs": []
    },
    {
      "cell_type": "code",
      "source": [
        "X_30 =X[-30:]\n",
        "forecast = reg.predict(X_30)\n",
        "\n",
        "from datetime import datetime,timedelta\n",
        "last_date = data_bitcoin_work.iloc[-1].name\n",
        "#last_date.to_datetime(df['date'], format='%Y-%m-%d')\n",
        "last_date = datetime.strptime(last_date, '%Y-%m-%d').date()\n",
        "modified_date = last_date + timedelta(days=1)\n",
        "date=pd.date_range(modified_date,periods=30,freq='D')\n",
        "df1=pd.DataFrame(forecast,columns=['Forecast'],index=date)\n",
        "data_bitcoin_work=data_bitcoin_work.append(df1)\n",
        "data_bitcoin_work.tail(30)\n",
        "# In real world ,The price of Bitcoin reached 18870 in Dec.16th,my prediction is 18401;\n",
        "# The next day,it went to 19458 in Dec.17th and my predicition is 18921;\n",
        "# It looks smart.\n",
        "\n",
        "#let us see what the baby looks like\n",
        "data_bitcoin_work['close'].plot(figsize=(16,8),label='Close',color = 'red')\n",
        "data_bitcoin_work['Forecast'].plot(label='forecast',color = 'blue')\n",
        "plt.legend()\n",
        "plt.show()"
      ],
      "metadata": {
        "id": "0QDQTxa_wrzA"
      },
      "execution_count": null,
      "outputs": []
    },
    {
      "cell_type": "code",
      "source": [
        "rmse = np.sqrt(mean_squared_error(y_test, preds))\n",
        "print(\"RMSE: %f\" % (rmse))\n",
        "mae = mean_absolute_error(y_test, preds)\n",
        "print(\"MAE: %f\" % (mae))\n",
        "accuracy=xg_reg.score(X_test, y_test)\n",
        "accuracy=accuracy*100\n",
        "accuracy = float(\"{0:.4f}\".format(accuracy))\n",
        "print('XGBoost Accuracy is:',accuracy,'%')"
      ],
      "metadata": {
        "id": "3MVPeq33qivr"
      },
      "execution_count": null,
      "outputs": []
    },
    {
      "cell_type": "code",
      "source": [
        "##### LSTM\n",
        "model=Sequential()\n",
        "model.add(LSTM(10,input_shape=(None,1),activation=\"relu\"))\n",
        "model.add(Dense(1))\n",
        "model.compile(loss=\"mean_squared_error\",optimizer=\"adam\")"
      ],
      "metadata": {
        "id": "XHngXEijqivr"
      },
      "execution_count": null,
      "outputs": []
    },
    {
      "cell_type": "code",
      "source": [
        "history = model.fit(X_train,y_train,validation_data=(X_test,y_test),epochs=10,batch_size=16,verbose=1)"
      ],
      "metadata": {
        "colab": {
          "base_uri": "https://localhost:8080/"
        },
        "outputId": "4a9ed8c5-51dc-46fb-f1d5-9c35c4e8d38f",
        "id": "OBzyJlX9qivr"
      },
      "execution_count": null,
      "outputs": [
        {
          "output_type": "stream",
          "name": "stdout",
          "text": [
            "Epoch 1/10\n",
            "114/114 [==============================] - 2s 7ms/step - loss: 17621446.0000 - val_loss: 14244029.0000\n",
            "Epoch 2/10\n",
            "114/114 [==============================] - 1s 5ms/step - loss: 12013126.0000 - val_loss: 1805829.1250\n",
            "Epoch 3/10\n",
            "114/114 [==============================] - 1s 5ms/step - loss: 2780566.7500 - val_loss: 1369870.2500\n",
            "Epoch 4/10\n",
            "114/114 [==============================] - 1s 5ms/step - loss: 2474740.7500 - val_loss: 1470883.6250\n",
            "Epoch 5/10\n",
            "114/114 [==============================] - 1s 6ms/step - loss: 2323194.5000 - val_loss: 1173873.2500\n",
            "Epoch 6/10\n",
            "114/114 [==============================] - 1s 10ms/step - loss: 2190131.5000 - val_loss: 1019670.2500\n",
            "Epoch 7/10\n",
            "114/114 [==============================] - 1s 6ms/step - loss: 2032242.7500 - val_loss: 903807.5000\n",
            "Epoch 8/10\n",
            "114/114 [==============================] - 1s 8ms/step - loss: 1918776.2500 - val_loss: 1152666.8750\n",
            "Epoch 9/10\n",
            "114/114 [==============================] - 1s 10ms/step - loss: 1868509.1250 - val_loss: 764501.0000\n",
            "Epoch 10/10\n",
            "114/114 [==============================] - 1s 10ms/step - loss: 1729986.8750 - val_loss: 814498.0625\n"
          ]
        }
      ]
    },
    {
      "cell_type": "code",
      "source": [
        "import matplotlib.pyplot as plt\n",
        "\n",
        "loss = history.history['loss']\n",
        "val_loss = history.history['val_loss']\n",
        "\n",
        "epochs = range(len(loss))\n",
        "\n",
        "plt.plot(epochs, loss, 'r', label='Training loss')\n",
        "plt.plot(epochs, val_loss, 'b', label='Validation loss')\n",
        "plt.title('Training and validation loss')\n",
        "plt.legend(loc=0)\n",
        "plt.figure()\n",
        "\n",
        "\n",
        "plt.show()"
      ],
      "metadata": {
        "colab": {
          "base_uri": "https://localhost:8080/",
          "height": 302
        },
        "outputId": "5dd7f495-e3db-4493-b6a8-9a3598298847",
        "id": "F3KNMUQkqivs"
      },
      "execution_count": null,
      "outputs": [
        {
          "output_type": "display_data",
          "data": {
            "image/png": "[encoded data removed]",
            "text/plain": [
              "<Figure size 432x288 with 1 Axes>"
            ]
          },
          "metadata": {}
        },
        {
          "output_type": "display_data",
          "data": {
            "text/plain": [
              "<Figure size 432x288 with 0 Axes>"
            ]
          },
          "metadata": {}
        }
      ]
    },
    {
      "cell_type": "code",
      "source": [
        "train_predict=model.predict(X_train)\n",
        "test_predict=model.predict(X_test)\n",
        "train_predict.shape, test_predict.shape"
      ],
      "metadata": {
        "colab": {
          "base_uri": "https://localhost:8080/"
        },
        "outputId": "f236ebdb-b734-4e18-dc78-db141d8edb7c",
        "id": "BcQXAOc-qivs"
      },
      "execution_count": null,
      "outputs": [
        {
          "output_type": "execute_result",
          "data": {
            "text/plain": [
              "((1810, 1), (202, 1))"
            ]
          },
          "metadata": {},
          "execution_count": 152
        }
      ]
    },
    {
      "cell_type": "code",
      "source": [
        "print(\"Train data RMSE: \", math.sqrt(mean_squared_error(y_train,train_predict)))\n",
        "print(\"Train data MSE: \", mean_squared_error(y_train,train_predict))\n",
        "print(\"Train data MAE: \", mean_absolute_error(y_train,train_predict))\n",
        "print(\"-------------------------------------------------------------------------------------\")\n",
        "print(\"Test data RMSE: \", math.sqrt(mean_squared_error(y_test,test_predict)))\n",
        "print(\"Test data MSE: \", mean_squared_error(y_test,test_predict))\n",
        "print(\"Test data MAE: \", mean_absolute_error(y_test,test_predict))"
      ],
      "metadata": {
        "colab": {
          "base_uri": "https://localhost:8080/"
        },
        "outputId": "abf7b01b-29db-4fdd-b515-a92ed5409197",
        "id": "wRIdgwOcqivs"
      },
      "execution_count": null,
      "outputs": [
        {
          "output_type": "stream",
          "name": "stdout",
          "text": [
            "Train data RMSE:  1301.1365249367193\n",
            "Train data MSE:  1692956.2565244017\n",
            "Train data MAE:  572.1290954205423\n",
            "-------------------------------------------------------------------------------------\n",
            "Test data RMSE:  902.4954692383943\n",
            "Test data MSE:  814498.0719958295\n",
            "Test data MAE:  444.4314290747312\n"
          ]
        }
      ]
    },
    {
      "cell_type": "code",
      "source": [
        "data_bitcoin_work.drop(['slug','symbol','name','ranknow','close_ratio'],axis=1,inplace=True)"
      ],
      "metadata": {
        "id": "YHG4wiFlf6ZW"
      },
      "execution_count": null,
      "outputs": []
    },
    {
      "cell_type": "code",
      "source": [
        "data_bitcoin_nlog = data_bitcoin_work.copy()"
      ],
      "metadata": {
        "id": "v5KIh1PrmQ9s"
      },
      "execution_count": null,
      "outputs": []
    },
    {
      "cell_type": "code",
      "source": [
        "import numpy as np\n",
        "import matplotlib.pyplot as plt\n",
        "import seaborn as sns\n",
        "import pandas as pd\n",
        "from sklearn.preprocessing import MinMaxScaler\n",
        "import time\n",
        "from datetime import datetime\n",
        "from datetime import timedelta\n",
        "from sklearn.ensemble import *\n",
        "from sklearn.tree import *\n",
        "sns.set()"
      ],
      "metadata": {
        "id": "_jZyD179mxwZ"
      },
      "execution_count": null,
      "outputs": []
    },
    {
      "cell_type": "code",
      "source": [
        "data_bitcoin_work['close'].plot(figsize=(12,6),label='Close')\n",
        "data_bitcoin_work['close'].rolling(window=30).mean().plot(label='30 Day Avg')\n",
        "plt.legend()"
      ],
      "metadata": {
        "colab": {
          "base_uri": "https://localhost:8080/",
          "height": 394
        },
        "outputId": "5d6f8765-2c64-41cb-ec2f-af3b9d45e3d3",
        "id": "hBBYeylgmxwa"
      },
      "execution_count": null,
      "outputs": [
        {
          "output_type": "execute_result",
          "data": {
            "text/plain": [
              "<matplotlib.legend.Legend at 0x7f28fcc35c90>"
            ]
          },
          "metadata": {},
          "execution_count": 54
        },
        {
          "output_type": "display_data",
          "data": {
            "image/png": "[encoded data removed]",
            "text/plain": [
              "<Figure size 864x432 with 1 Axes>"
            ]
          },
          "metadata": {}
        }
      ]
    },
    {
      "cell_type": "code",
      "source": [
        "data_bitcoin_work.dtypes\n",
        "data_bitcoin_work['date'] = pd.to_datetime(df['date'], format='%Y-%m-%d')\n",
        "print(data_bitcoin_work.dtypes)"
      ],
      "metadata": {
        "colab": {
          "base_uri": "https://localhost:8080/"
        },
        "id": "7eKLX8Pe_v3t",
        "outputId": "5e8a8dcf-904c-4509-95f9-eb5833d14184"
      },
      "execution_count": null,
      "outputs": [
        {
          "output_type": "stream",
          "name": "stdout",
          "text": [
            "date      datetime64[ns]\n",
            "open             float64\n",
            "high             float64\n",
            "low              float64\n",
            "close            float64\n",
            "volume           float64\n",
            "market           float64\n",
            "spread           float64\n",
            "dtype: object\n"
          ]
        }
      ]
    },
    {
      "cell_type": "code",
      "source": [
        "data_bitcoin_1 = data_bitcoin_work[['date', 'open', 'high', 'low', 'close']].copy()"
      ],
      "metadata": {
        "id": "x6QG9VZQDOK8"
      },
      "execution_count": null,
      "outputs": []
    },
    {
      "cell_type": "code",
      "source": [
        "data_bitcoin_1"
      ],
      "metadata": {
        "colab": {
          "base_uri": "https://localhost:8080/",
          "height": 423
        },
        "id": "4uXjd8TqLwuv",
        "outputId": "66b0d679-135e-448d-ada9-87053323c3da"
      },
      "execution_count": null,
      "outputs": [
        {
          "output_type": "execute_result",
          "data": {
            "text/html": [
              "\n",
              "  <div id=\"df-4bbfa607-2ba4-42d2-88db-cb73bc2b03e9\">\n",
              "    <div class=\"colab-df-container\">\n",
              "      <div>\n",
              "<style scoped>\n",
              "    .dataframe tbody tr th:only-of-type {\n",
              "        vertical-align: middle;\n",
              "    }\n",
              "\n",
              "    .dataframe tbody tr th {\n",
              "        vertical-align: top;\n",
              "    }\n",
              "\n",
              "    .dataframe thead th {\n",
              "        text-align: right;\n",
              "    }\n",
              "</style>\n",
              "<table border=\"1\" class=\"dataframe\">\n",
              "  <thead>\n",
              "    <tr style=\"text-align: right;\">\n",
              "      <th></th>\n",
              "      <th>date</th>\n",
              "      <th>open</th>\n",
              "      <th>high</th>\n",
              "      <th>low</th>\n",
              "      <th>close</th>\n",
              "    </tr>\n",
              "  </thead>\n",
              "  <tbody>\n",
              "    <tr>\n",
              "      <th>0</th>\n",
              "      <td>2013-04-28</td>\n",
              "      <td>135.30</td>\n",
              "      <td>135.98</td>\n",
              "      <td>132.10</td>\n",
              "      <td>134.21</td>\n",
              "    </tr>\n",
              "    <tr>\n",
              "      <th>1</th>\n",
              "      <td>2013-04-29</td>\n",
              "      <td>134.44</td>\n",
              "      <td>147.49</td>\n",
              "      <td>134.00</td>\n",
              "      <td>144.54</td>\n",
              "    </tr>\n",
              "    <tr>\n",
              "      <th>2</th>\n",
              "      <td>2013-04-30</td>\n",
              "      <td>144.00</td>\n",
              "      <td>146.93</td>\n",
              "      <td>134.05</td>\n",
              "      <td>139.00</td>\n",
              "    </tr>\n",
              "    <tr>\n",
              "      <th>3</th>\n",
              "      <td>2013-05-01</td>\n",
              "      <td>139.00</td>\n",
              "      <td>139.89</td>\n",
              "      <td>107.72</td>\n",
              "      <td>116.99</td>\n",
              "    </tr>\n",
              "    <tr>\n",
              "      <th>4</th>\n",
              "      <td>2013-05-02</td>\n",
              "      <td>116.38</td>\n",
              "      <td>125.60</td>\n",
              "      <td>92.28</td>\n",
              "      <td>105.21</td>\n",
              "    </tr>\n",
              "    <tr>\n",
              "      <th>...</th>\n",
              "      <td>...</td>\n",
              "      <td>...</td>\n",
              "      <td>...</td>\n",
              "      <td>...</td>\n",
              "      <td>...</td>\n",
              "    </tr>\n",
              "    <tr>\n",
              "      <th>2037</th>\n",
              "      <td>2018-11-25</td>\n",
              "      <td>3880.78</td>\n",
              "      <td>4120.87</td>\n",
              "      <td>3585.06</td>\n",
              "      <td>4009.97</td>\n",
              "    </tr>\n",
              "    <tr>\n",
              "      <th>2038</th>\n",
              "      <td>2018-11-26</td>\n",
              "      <td>4015.07</td>\n",
              "      <td>4107.14</td>\n",
              "      <td>3643.92</td>\n",
              "      <td>3779.13</td>\n",
              "    </tr>\n",
              "    <tr>\n",
              "      <th>2039</th>\n",
              "      <td>2018-11-27</td>\n",
              "      <td>3765.95</td>\n",
              "      <td>3862.96</td>\n",
              "      <td>3661.01</td>\n",
              "      <td>3820.72</td>\n",
              "    </tr>\n",
              "    <tr>\n",
              "      <th>2040</th>\n",
              "      <td>2018-11-28</td>\n",
              "      <td>3822.47</td>\n",
              "      <td>4385.90</td>\n",
              "      <td>3822.47</td>\n",
              "      <td>4257.42</td>\n",
              "    </tr>\n",
              "    <tr>\n",
              "      <th>2041</th>\n",
              "      <td>2018-11-29</td>\n",
              "      <td>4269.00</td>\n",
              "      <td>4413.02</td>\n",
              "      <td>4145.77</td>\n",
              "      <td>4278.85</td>\n",
              "    </tr>\n",
              "  </tbody>\n",
              "</table>\n",
              "<p>2042 rows × 5 columns</p>\n",
              "</div>\n",
              "      <button class=\"colab-df-convert\" onclick=\"convertToInteractive('df-4bbfa607-2ba4-42d2-88db-cb73bc2b03e9')\"\n",
              "              title=\"Convert this dataframe to an interactive table.\"\n",
              "              style=\"display:none;\">\n",
              "        \n",
              "  <svg xmlns=\"http://www.w3.org/2000/svg\" height=\"24px\"viewBox=\"0 0 24 24\"\n",
              "       width=\"24px\">\n",
              "    <path d=\"M0 0h24v24H0V0z\" fill=\"none\"/>\n",
              "    <path d=\"M18.56 5.44l.94 2.06.94-2.06 2.06-.94-2.06-.94-.94-2.06-.94 2.06-2.06.94zm-11 1L8.5 8.5l.94-2.06 2.06-.94-2.06-.94L8.5 2.5l-.94 2.06-2.06.94zm10 10l.94 2.06.94-2.06 2.06-.94-2.06-.94-.94-2.06-.94 2.06-2.06.94z\"/><path d=\"M17.41 7.96l-1.37-1.37c-.4-.4-.92-.59-1.43-.59-.52 0-1.04.2-1.43.59L10.3 9.45l-7.72 7.72c-.78.78-.78 2.05 0 2.83L4 21.41c.39.39.9.59 1.41.59.51 0 1.02-.2 1.41-.59l7.78-7.78 2.81-2.81c.8-.78.8-2.07 0-2.86zM5.41 20L4 18.59l7.72-7.72 1.47 1.35L5.41 20z\"/>\n",
              "  </svg>\n",
              "      </button>\n",
              "      \n",
              "  <style>\n",
              "    .colab-df-container {\n",
              "      display:flex;\n",
              "      flex-wrap:wrap;\n",
              "      gap: 12px;\n",
              "    }\n",
              "\n",
              "    .colab-df-convert {\n",
              "      background-color: #E8F0FE;\n",
              "      border: none;\n",
              "      border-radius: 50%;\n",
              "      cursor: pointer;\n",
              "      display: none;\n",
              "      fill: #1967D2;\n",
              "      height: 32px;\n",
              "      padding: 0 0 0 0;\n",
              "      width: 32px;\n",
              "    }\n",
              "\n",
              "    .colab-df-convert:hover {\n",
              "      background-color: #E2EBFA;\n",
              "      box-shadow: 0px 1px 2px rgba(60, 64, 67, 0.3), 0px 1px 3px 1px rgba(60, 64, 67, 0.15);\n",
              "      fill: #174EA6;\n",
              "    }\n",
              "\n",
              "    [theme=dark] .colab-df-convert {\n",
              "      background-color: #3B4455;\n",
              "      fill: #D2E3FC;\n",
              "    }\n",
              "\n",
              "    [theme=dark] .colab-df-convert:hover {\n",
              "      background-color: #434B5C;\n",
              "      box-shadow: 0px 1px 3px 1px rgba(0, 0, 0, 0.15);\n",
              "      filter: drop-shadow(0px 1px 2px rgba(0, 0, 0, 0.3));\n",
              "      fill: #FFFFFF;\n",
              "    }\n",
              "  </style>\n",
              "\n",
              "      <script>\n",
              "        const buttonEl =\n",
              "          document.querySelector('#df-4bbfa607-2ba4-42d2-88db-cb73bc2b03e9 button.colab-df-convert');\n",
              "        buttonEl.style.display =\n",
              "          google.colab.kernel.accessAllowed ? 'block' : 'none';\n",
              "\n",
              "        async function convertToInteractive(key) {\n",
              "          const element = document.querySelector('#df-4bbfa607-2ba4-42d2-88db-cb73bc2b03e9');\n",
              "          const dataTable =\n",
              "            await google.colab.kernel.invokeFunction('convertToInteractive',\n",
              "                                                     [key], {});\n",
              "          if (!dataTable) return;\n",
              "\n",
              "          const docLinkHtml = 'Like what you see? Visit the ' +\n",
              "            '<a target=\"_blank\" href=https://colab.research.google.com/notebooks/data_table.ipynb>data table notebook</a>'\n",
              "            + ' to learn more about interactive tables.';\n",
              "          element.innerHTML = '';\n",
              "          dataTable['output_type'] = 'display_data';\n",
              "          await google.colab.output.renderOutput(dataTable, element);\n",
              "          const docLink = document.createElement('div');\n",
              "          docLink.innerHTML = docLinkHtml;\n",
              "          element.appendChild(docLink);\n",
              "        }\n",
              "      </script>\n",
              "    </div>\n",
              "  </div>\n",
              "  "
            ],
            "text/plain": [
              "           date     open     high      low    close\n",
              "0    2013-04-28   135.30   135.98   132.10   134.21\n",
              "1    2013-04-29   134.44   147.49   134.00   144.54\n",
              "2    2013-04-30   144.00   146.93   134.05   139.00\n",
              "3    2013-05-01   139.00   139.89   107.72   116.99\n",
              "4    2013-05-02   116.38   125.60    92.28   105.21\n",
              "...         ...      ...      ...      ...      ...\n",
              "2037 2018-11-25  3880.78  4120.87  3585.06  4009.97\n",
              "2038 2018-11-26  4015.07  4107.14  3643.92  3779.13\n",
              "2039 2018-11-27  3765.95  3862.96  3661.01  3820.72\n",
              "2040 2018-11-28  3822.47  4385.90  3822.47  4257.42\n",
              "2041 2018-11-29  4269.00  4413.02  4145.77  4278.85\n",
              "\n",
              "[2042 rows x 5 columns]"
            ]
          },
          "metadata": {},
          "execution_count": 106
        }
      ]
    },
    {
      "cell_type": "code",
      "source": [
        "period = 30\n",
        "minmax = MinMaxScaler().fit(data_bitcoin_1.iloc[:, 3].values.reshape((-1,1)))\n",
        "close_normalize = minmax.transform(data_bitcoin_1.iloc[:, 3].values.reshape((-1,1)))\n",
        "normalized = pd.DataFrame(close_normalize)\n",
        "normalized['Price_After_period']=normalized[0].shift(-period)\n",
        "normalized.dropna(inplace=True)\n",
        "X=normalized.drop('Price_After_period',axis=1)\n",
        "print(normalized.head())\n",
        "y=normalized['Price_After_period']\n",
        "print(X.head())\n",
        "y.head()"
      ],
      "metadata": {
        "colab": {
          "base_uri": "https://localhost:8080/"
        },
        "outputId": "664e3b41-1e08-490d-83e4-e92267f3364c",
        "id": "jgRAyOT-mxwa"
      },
      "execution_count": null,
      "outputs": [
        {
          "output_type": "stream",
          "name": "stdout",
          "text": [
            "          0  Price_After_period\n",
            "0  0.003521            0.003177\n",
            "1  0.003621            0.003286\n",
            "2  0.003624            0.003251\n",
            "3  0.002231            0.003219\n",
            "4  0.001415            0.003261\n",
            "          0\n",
            "0  0.003521\n",
            "1  0.003621\n",
            "2  0.003624\n",
            "3  0.002231\n",
            "4  0.001415\n"
          ]
        },
        {
          "output_type": "execute_result",
          "data": {
            "text/plain": [
              "0    0.003177\n",
              "1    0.003286\n",
              "2    0.003251\n",
              "3    0.003219\n",
              "4    0.003261\n",
              "Name: Price_After_period, dtype: float64"
            ]
          },
          "metadata": {},
          "execution_count": 103
        }
      ]
    },
    {
      "cell_type": "code",
      "source": [
        "from sklearn.model_selection import train_test_split\n",
        "train_X,test_X,train_Y,test_Y=train_test_split(X,y,test_size=0.2,random_state=101)"
      ],
      "metadata": {
        "id": "wbXAY3HZmxwa"
      },
      "execution_count": null,
      "outputs": []
    },
    {
      "cell_type": "code",
      "source": [
        "import xgboost as xgb\n",
        "import pandas as pd\n",
        "import numpy as np"
      ],
      "metadata": {
        "id": "4PJTRv3Umxwa"
      },
      "execution_count": null,
      "outputs": []
    },
    {
      "cell_type": "code",
      "source": [
        "import math\n",
        "from sklearn.metrics import *\n",
        "from tensorflow.keras.layers import Bidirectional, Dropout, Activation, Dense, LSTM\n",
        "from tensorflow.python.keras.layers import CuDNNLSTM\n",
        "from tensorflow.keras.models import Sequential"
      ],
      "metadata": {
        "id": "koF_HTXlmxwb"
      },
      "execution_count": null,
      "outputs": []
    },
    {
      "cell_type": "code",
      "source": [
        "from sklearn.ensemble import *\n",
        "rf = RandomForestRegressor(n_estimators=500, random_state=101)\n",
        "dt = DecisionTreeRegressor(random_state=101)"
      ],
      "metadata": {
        "id": "nXhga8N7mxwb"
      },
      "execution_count": null,
      "outputs": []
    },
    {
      "cell_type": "code",
      "source": [
        "rf.fit(train_X, train_Y)\n",
        "dt.fit(train_X, train_Y)"
      ],
      "metadata": {
        "colab": {
          "base_uri": "https://localhost:8080/"
        },
        "outputId": "eb10cbea-78dd-4e76-a1e3-c231ecd84ade",
        "id": "gxxHnQOqmxwc"
      },
      "execution_count": null,
      "outputs": [
        {
          "output_type": "execute_result",
          "data": {
            "text/plain": [
              "DecisionTreeRegressor(random_state=101)"
            ]
          },
          "metadata": {},
          "execution_count": 62
        }
      ]
    },
    {
      "cell_type": "code",
      "source": [
        "preds_rf = rf.predict(test_X)\n",
        "preds_dt = dt.predict(test_X)"
      ],
      "metadata": {
        "id": "E-skm-U2Br8l"
      },
      "execution_count": null,
      "outputs": []
    },
    {
      "cell_type": "code",
      "source": [
        "accuracy=dt.score(test_X, test_Y)\n",
        "accuracy=accuracy*100\n",
        "accuracy = float(\"{0:.4f}\".format(accuracy))\n",
        "print('Decision Tree Accuracy is:',accuracy,'%')\n",
        "print(\"Test data RMSE: \", math.sqrt(mean_squared_error(test_Y,preds_dt)))\n",
        "print(\"Test data MAE: \", mean_absolute_error(test_Y,preds_dt))"
      ],
      "metadata": {
        "colab": {
          "base_uri": "https://localhost:8080/"
        },
        "outputId": "a80af027-bdc2-420f-f4be-bfddaee43390",
        "id": "g6qEsp5hmxwc"
      },
      "execution_count": null,
      "outputs": [
        {
          "output_type": "stream",
          "name": "stdout",
          "text": [
            "Decision Tree Accuracy is: 84.1692 %\n",
            "Test data RMSE:  0.06719137529028987\n",
            "Test data MAE:  0.027296601606216154\n"
          ]
        }
      ]
    },
    {
      "cell_type": "code",
      "source": [
        "accuracy=rf.score(test_X, test_Y)\n",
        "accuracy=accuracy*100\n",
        "accuracy = float(\"{0:.4f}\".format(accuracy))\n",
        "print('Random Forest Accuracy is:',accuracy,'%')\n",
        "print(\"Test data RMSE: \", math.sqrt(mean_squared_error(test_Y,preds_rf)))\n",
        "print(\"Test data MAE: \", mean_absolute_error(test_Y,preds_rf))"
      ],
      "metadata": {
        "colab": {
          "base_uri": "https://localhost:8080/"
        },
        "outputId": "9eaccb07-438f-4069-dae1-843d65e5f8f6",
        "id": "P-_YzihAmxwc"
      },
      "execution_count": null,
      "outputs": [
        {
          "output_type": "stream",
          "name": "stdout",
          "text": [
            "Random Forest Accuracy is: 90.0726 %\n",
            "Test data RMSE:  0.053208437997409624\n",
            "Test data MAE:  0.022986325113653252\n"
          ]
        }
      ]
    },
    {
      "cell_type": "code",
      "source": [
        "xg_reg = xgb.XGBRegressor(objective ='reg:linear', colsample_bytree = 0.3, learning_rate = 0.1,\n",
        "                max_depth = 5, alpha = 10, n_estimators = 10)"
      ],
      "metadata": {
        "id": "OxHk22gQmxwb"
      },
      "execution_count": null,
      "outputs": []
    },
    {
      "cell_type": "code",
      "source": [
        "xg_reg.fit(train_X,train_Y)\n",
        "preds = xg_reg.predict(test_X)"
      ],
      "metadata": {
        "colab": {
          "base_uri": "https://localhost:8080/"
        },
        "outputId": "9f08b526-e8dc-4bd8-e631-93d7c7c9a4a9",
        "id": "lpnYAR3xmxwb"
      },
      "execution_count": null,
      "outputs": [
        {
          "output_type": "stream",
          "name": "stdout",
          "text": [
            "[01:36:34] WARNING: /workspace/src/objective/regression_obj.cu:152: reg:linear is now deprecated in favor of reg:squarederror.\n"
          ]
        }
      ]
    },
    {
      "cell_type": "code",
      "source": [
        "rmse = np.sqrt(mean_squared_error(test_Y, preds))\n",
        "print(\"RMSE: %f\" % (rmse))\n",
        "mae = mean_absolute_error(test_Y, preds)\n",
        "print(\"MAE: %f\" % (mae))\n",
        "accuracy=xg_reg.score(test_X, test_Y)\n",
        "accuracy=accuracy*100\n",
        "accuracy = float(\"{0:.4f}\".format(accuracy))\n",
        "print('XGBoost Accuracy is:',accuracy,'%')"
      ],
      "metadata": {
        "colab": {
          "base_uri": "https://localhost:8080/"
        },
        "outputId": "cd21e4bc-3de2-4553-d6ee-8b5c9e8a3a91",
        "id": "RZzkEUOBmxwb"
      },
      "execution_count": null,
      "outputs": [
        {
          "output_type": "stream",
          "name": "stdout",
          "text": [
            "RMSE: 0.154319\n",
            "MAE: 0.147927\n",
            "XGBoost Accuracy is: 16.4951 %\n"
          ]
        }
      ]
    },
    {
      "cell_type": "code",
      "source": [
        "##### LSTM\n",
        "model=Sequential()\n",
        "model.add(LSTM(10,input_shape=(None,1),activation=\"relu\"))\n",
        "model.add(Dense(1))\n",
        "model.compile(loss=\"mean_squared_error\",optimizer=\"adam\")"
      ],
      "metadata": {
        "id": "MF23DbxCmxwb"
      },
      "execution_count": null,
      "outputs": []
    },
    {
      "cell_type": "code",
      "source": [
        "history = model.fit(train_X,train_Y,validation_data=(test_X,test_Y),epochs=10,batch_size=16,verbose=1)"
      ],
      "metadata": {
        "id": "b7km23uqmxwb",
        "colab": {
          "base_uri": "https://localhost:8080/"
        },
        "outputId": "6d889aee-9ee8-42ea-cd6c-4bb8c5431571"
      },
      "execution_count": null,
      "outputs": [
        {
          "output_type": "stream",
          "name": "stdout",
          "text": [
            "Epoch 1/10\n",
            "101/101 [==============================] - 2s 5ms/step - loss: 0.0374 - val_loss: 0.0283\n",
            "Epoch 2/10\n",
            "101/101 [==============================] - 0s 3ms/step - loss: 0.0288 - val_loss: 0.0249\n",
            "Epoch 3/10\n",
            "101/101 [==============================] - 0s 3ms/step - loss: 0.0264 - val_loss: 0.0224\n",
            "Epoch 4/10\n",
            "101/101 [==============================] - 0s 3ms/step - loss: 0.0236 - val_loss: 0.0191\n",
            "Epoch 5/10\n",
            "101/101 [==============================] - 0s 3ms/step - loss: 0.0201 - val_loss: 0.0151\n",
            "Epoch 6/10\n",
            "101/101 [==============================] - 0s 3ms/step - loss: 0.0162 - val_loss: 0.0112\n",
            "Epoch 7/10\n",
            "101/101 [==============================] - 0s 3ms/step - loss: 0.0125 - val_loss: 0.0080\n",
            "Epoch 8/10\n",
            "101/101 [==============================] - 0s 3ms/step - loss: 0.0096 - val_loss: 0.0060\n",
            "Epoch 9/10\n",
            "101/101 [==============================] - 0s 3ms/step - loss: 0.0077 - val_loss: 0.0050\n",
            "Epoch 10/10\n",
            "101/101 [==============================] - 0s 3ms/step - loss: 0.0067 - val_loss: 0.0046\n"
          ]
        }
      ]
    },
    {
      "cell_type": "code",
      "source": [
        "import matplotlib.pyplot as plt\n",
        "\n",
        "loss = history.history['loss']\n",
        "val_loss = history.history['val_loss']\n",
        "\n",
        "epochs = range(len(loss))\n",
        "\n",
        "plt.plot(epochs, loss, 'r', label='Training loss')\n",
        "plt.plot(epochs, val_loss, 'b', label='Validation loss')\n",
        "plt.title('Training and validation loss')\n",
        "plt.legend(loc=0)\n",
        "plt.figure()\n",
        "\n",
        "\n",
        "plt.show()"
      ],
      "metadata": {
        "id": "1t3jhffkmxwb",
        "colab": {
          "base_uri": "https://localhost:8080/",
          "height": 302
        },
        "outputId": "f4ec14e7-537f-42c0-97e8-0003b98753de"
      },
      "execution_count": null,
      "outputs": [
        {
          "output_type": "display_data",
          "data": {
            "image/png": "[encoded data removed]",
            "text/plain": [
              "<Figure size 432x288 with 1 Axes>"
            ]
          },
          "metadata": {}
        },
        {
          "output_type": "display_data",
          "data": {
            "text/plain": [
              "<Figure size 432x288 with 0 Axes>"
            ]
          },
          "metadata": {}
        }
      ]
    },
    {
      "cell_type": "code",
      "source": [
        "train_predict=model.predict(train_X)\n",
        "test_predict=model.predict(test_X)\n",
        "train_predict.shape, test_predict.shape"
      ],
      "metadata": {
        "id": "r9B5NIG4mxwb",
        "colab": {
          "base_uri": "https://localhost:8080/"
        },
        "outputId": "5e26ef50-5d7b-4155-de1a-b66ef54fa99e"
      },
      "execution_count": null,
      "outputs": [
        {
          "output_type": "execute_result",
          "data": {
            "text/plain": [
              "((1609, 1), (403, 1))"
            ]
          },
          "metadata": {},
          "execution_count": 49
        }
      ]
    },
    {
      "cell_type": "code",
      "source": [
        "print(\"Train data RMSE: \", math.sqrt(mean_squared_error(train_Y,train_predict)))\n",
        "print(\"Train data MSE: \", mean_squared_error(train_Y,train_predict))\n",
        "print(\"Train data MAE: \", mean_absolute_error(train_Y,train_predict))\n",
        "print(\"-------------------------------------------------------------------------------------\")\n",
        "print(\"Test data RMSE: \", math.sqrt(mean_squared_error(test_Y,test_predict)))\n",
        "print(\"Test data MSE: \", mean_squared_error(test_Y,test_predict))\n",
        "print(\"Test data MAE: \", mean_absolute_error(test_Y,test_predict))"
      ],
      "metadata": {
        "id": "LKVTWsZxmxwb",
        "colab": {
          "base_uri": "https://localhost:8080/"
        },
        "outputId": "1dca061e-7745-4322-885a-0bbba65f570a"
      },
      "execution_count": null,
      "outputs": [
        {
          "output_type": "stream",
          "name": "stdout",
          "text": [
            "Train data RMSE:  0.0799770020054697\n",
            "Train data MSE:  0.006396320849782904\n",
            "Train data MAE:  0.04562663498776634\n",
            "-------------------------------------------------------------------------------------\n",
            "Test data RMSE:  0.06765960288594415\n",
            "Test data MSE:  0.004577821862683662\n",
            "Test data MAE:  0.04265627744851188\n"
          ]
        }
      ]
    },
    {
      "cell_type": "markdown",
      "source": [
        "Nlog"
      ],
      "metadata": {
        "id": "fpyOZmLuqCCy"
      }
    },
    {
      "cell_type": "code",
      "source": [
        "data_bitcoin_nlog['close_log'].plot(figsize=(12,6),label='Close')\n",
        "data_bitcoin_nlog['close_log'].rolling(window=30).mean().plot(label='30 Day Avg')\n",
        "plt.legend()"
      ],
      "metadata": {
        "colab": {
          "base_uri": "https://localhost:8080/",
          "height": 394
        },
        "id": "f0R8WfZ_JC9F",
        "outputId": "ae422786-1707-4998-db80-dd8903ceeeb5"
      },
      "execution_count": null,
      "outputs": [
        {
          "output_type": "execute_result",
          "data": {
            "text/plain": [
              "<matplotlib.legend.Legend at 0x7f51d30d6c90>"
            ]
          },
          "metadata": {},
          "execution_count": 51
        },
        {
          "output_type": "display_data",
          "data": {
            "image/png": "[encoded data removed]",
            "text/plain": [
              "<Figure size 864x432 with 1 Axes>"
            ]
          },
          "metadata": {}
        }
      ]
    },
    {
      "cell_type": "code",
      "source": [
        "data_bitcoin_nlog.columns"
      ],
      "metadata": {
        "colab": {
          "base_uri": "https://localhost:8080/"
        },
        "id": "CpNXRv3qEnu3",
        "outputId": "c34dfd4b-9046-44e2-97c3-058d5424e5f3"
      },
      "execution_count": null,
      "outputs": [
        {
          "output_type": "execute_result",
          "data": {
            "text/plain": [
              "Index(['date', 'open', 'high', 'low', 'close', 'volume', 'market', 'spread',\n",
              "       'open_log', 'high_log', 'low_log', 'close_log'],\n",
              "      dtype='object')"
            ]
          },
          "metadata": {},
          "execution_count": 52
        }
      ]
    },
    {
      "cell_type": "code",
      "source": [
        "data_bitcoin_nl1 = data_bitcoin_nlog[['date', 'open_log', 'high_log', 'low_log', 'close_log']].copy()"
      ],
      "metadata": {
        "id": "etjx6vbnEii4"
      },
      "execution_count": null,
      "outputs": []
    },
    {
      "cell_type": "code",
      "source": [
        "period = 30\n",
        "minmax = MinMaxScaler().fit(data_bitcoin_nl1.iloc[:, 3].values.reshape((-1,1)))\n",
        "close_normalize = minmax.transform(data_bitcoin_nl1.iloc[:, 3].values.reshape((-1,1)))\n",
        "normalized = pd.DataFrame(close_normalize)\n",
        "normalized['Price_After_period']=normalized[0].shift(-period)\n",
        "normalized.dropna(inplace=True)\n",
        "X=normalized.drop('Price_After_period',axis=1)\n",
        "print(normalized.head())\n",
        "y=normalized['Price_After_period']\n",
        "print(X.head())\n",
        "y.head()"
      ],
      "metadata": {
        "colab": {
          "base_uri": "https://localhost:8080/"
        },
        "id": "VLcIKGJEJKGf",
        "outputId": "f0e75dc6-20d9-4e8f-8cd9-a0700d056d58"
      },
      "execution_count": null,
      "outputs": [
        {
          "output_type": "stream",
          "name": "stdout",
          "text": [
            "          0  Price_After_period\n",
            "0  0.122664            0.113807\n",
            "1  0.125171            0.116663\n",
            "2  0.125237            0.115753\n",
            "3  0.086875            0.114922\n",
            "4  0.059780            0.116029\n",
            "          0\n",
            "0  0.122664\n",
            "1  0.125171\n",
            "2  0.125237\n",
            "3  0.086875\n",
            "4  0.059780\n"
          ]
        },
        {
          "output_type": "execute_result",
          "data": {
            "text/plain": [
              "0    0.113807\n",
              "1    0.116663\n",
              "2    0.115753\n",
              "3    0.114922\n",
              "4    0.116029\n",
              "Name: Price_After_period, dtype: float64"
            ]
          },
          "metadata": {},
          "execution_count": 74
        }
      ]
    },
    {
      "cell_type": "code",
      "source": [
        "minmax"
      ],
      "metadata": {
        "colab": {
          "base_uri": "https://localhost:8080/"
        },
        "id": "tRBToeFlmXMn",
        "outputId": "a18f4990-97a5-4310-c044-9aaebeca1a04"
      },
      "execution_count": null,
      "outputs": [
        {
          "output_type": "execute_result",
          "data": {
            "text/plain": [
              "MinMaxScaler()"
            ]
          },
          "metadata": {},
          "execution_count": 77
        }
      ]
    },
    {
      "cell_type": "code",
      "source": [
        "close_normalize"
      ],
      "metadata": {
        "colab": {
          "base_uri": "https://localhost:8080/"
        },
        "id": "AS2VHuA7mP2Q",
        "outputId": "afaeb645-4736-4bad-d4de-be7caba6d134"
      },
      "execution_count": null,
      "outputs": [
        {
          "output_type": "execute_result",
          "data": {
            "text/plain": [
              "array([[0.12266399],\n",
              "       [0.12517124],\n",
              "       [0.12523674],\n",
              "       ...,\n",
              "       [0.70899549],\n",
              "       [0.71662762],\n",
              "       [0.73098602]])"
            ]
          },
          "metadata": {},
          "execution_count": 76
        }
      ]
    },
    {
      "cell_type": "code",
      "source": [
        "normalized"
      ],
      "metadata": {
        "colab": {
          "base_uri": "https://localhost:8080/",
          "height": 423
        },
        "id": "GK3PqIc3mLe-",
        "outputId": "97f80b86-3a5c-4339-fcb9-7667221da9e7"
      },
      "execution_count": null,
      "outputs": [
        {
          "output_type": "execute_result",
          "data": {
            "text/html": [
              "<div>\n",
              "<style scoped>\n",
              "    .dataframe tbody tr th:only-of-type {\n",
              "        vertical-align: middle;\n",
              "    }\n",
              "\n",
              "    .dataframe tbody tr th {\n",
              "        vertical-align: top;\n",
              "    }\n",
              "\n",
              "    .dataframe thead th {\n",
              "        text-align: right;\n",
              "    }\n",
              "</style>\n",
              "<table border=\"1\" class=\"dataframe\">\n",
              "  <thead>\n",
              "    <tr style=\"text-align: right;\">\n",
              "      <th></th>\n",
              "      <th>0</th>\n",
              "      <th>Price_After_period</th>\n",
              "    </tr>\n",
              "  </thead>\n",
              "  <tbody>\n",
              "    <tr>\n",
              "      <th>0</th>\n",
              "      <td>0.122664</td>\n",
              "      <td>0.113807</td>\n",
              "    </tr>\n",
              "    <tr>\n",
              "      <th>1</th>\n",
              "      <td>0.125171</td>\n",
              "      <td>0.116663</td>\n",
              "    </tr>\n",
              "    <tr>\n",
              "      <th>2</th>\n",
              "      <td>0.125237</td>\n",
              "      <td>0.115753</td>\n",
              "    </tr>\n",
              "    <tr>\n",
              "      <th>3</th>\n",
              "      <td>0.086875</td>\n",
              "      <td>0.114922</td>\n",
              "    </tr>\n",
              "    <tr>\n",
              "      <th>4</th>\n",
              "      <td>0.059780</td>\n",
              "      <td>0.116029</td>\n",
              "    </tr>\n",
              "    <tr>\n",
              "      <th>...</th>\n",
              "      <td>...</td>\n",
              "      <td>...</td>\n",
              "    </tr>\n",
              "    <tr>\n",
              "      <th>2007</th>\n",
              "      <td>0.809144</td>\n",
              "      <td>0.705288</td>\n",
              "    </tr>\n",
              "    <tr>\n",
              "      <th>2008</th>\n",
              "      <td>0.809251</td>\n",
              "      <td>0.708168</td>\n",
              "    </tr>\n",
              "    <tr>\n",
              "      <th>2009</th>\n",
              "      <td>0.809097</td>\n",
              "      <td>0.708995</td>\n",
              "    </tr>\n",
              "    <tr>\n",
              "      <th>2010</th>\n",
              "      <td>0.805189</td>\n",
              "      <td>0.716628</td>\n",
              "    </tr>\n",
              "    <tr>\n",
              "      <th>2011</th>\n",
              "      <td>0.805277</td>\n",
              "      <td>0.730986</td>\n",
              "    </tr>\n",
              "  </tbody>\n",
              "</table>\n",
              "<p>2012 rows × 2 columns</p>\n",
              "</div>"
            ],
            "text/plain": [
              "             0  Price_After_period\n",
              "0     0.122664            0.113807\n",
              "1     0.125171            0.116663\n",
              "2     0.125237            0.115753\n",
              "3     0.086875            0.114922\n",
              "4     0.059780            0.116029\n",
              "...        ...                 ...\n",
              "2007  0.809144            0.705288\n",
              "2008  0.809251            0.708168\n",
              "2009  0.809097            0.708995\n",
              "2010  0.805189            0.716628\n",
              "2011  0.805277            0.730986\n",
              "\n",
              "[2012 rows x 2 columns]"
            ]
          },
          "metadata": {},
          "execution_count": 75
        }
      ]
    },
    {
      "cell_type": "code",
      "source": [
        "X"
      ],
      "metadata": {
        "colab": {
          "base_uri": "https://localhost:8080/",
          "height": 423
        },
        "id": "yQJQPXYYmvJF",
        "outputId": "fde70477-8211-4a9b-cb52-2bab3e7871cc"
      },
      "execution_count": null,
      "outputs": [
        {
          "output_type": "execute_result",
          "data": {
            "text/html": [
              "<div>\n",
              "<style scoped>\n",
              "    .dataframe tbody tr th:only-of-type {\n",
              "        vertical-align: middle;\n",
              "    }\n",
              "\n",
              "    .dataframe tbody tr th {\n",
              "        vertical-align: top;\n",
              "    }\n",
              "\n",
              "    .dataframe thead th {\n",
              "        text-align: right;\n",
              "    }\n",
              "</style>\n",
              "<table border=\"1\" class=\"dataframe\">\n",
              "  <thead>\n",
              "    <tr style=\"text-align: right;\">\n",
              "      <th></th>\n",
              "      <th>0</th>\n",
              "    </tr>\n",
              "  </thead>\n",
              "  <tbody>\n",
              "    <tr>\n",
              "      <th>0</th>\n",
              "      <td>0.122664</td>\n",
              "    </tr>\n",
              "    <tr>\n",
              "      <th>1</th>\n",
              "      <td>0.125171</td>\n",
              "    </tr>\n",
              "    <tr>\n",
              "      <th>2</th>\n",
              "      <td>0.125237</td>\n",
              "    </tr>\n",
              "    <tr>\n",
              "      <th>3</th>\n",
              "      <td>0.086875</td>\n",
              "    </tr>\n",
              "    <tr>\n",
              "      <th>4</th>\n",
              "      <td>0.059780</td>\n",
              "    </tr>\n",
              "    <tr>\n",
              "      <th>...</th>\n",
              "      <td>...</td>\n",
              "    </tr>\n",
              "    <tr>\n",
              "      <th>2007</th>\n",
              "      <td>0.809144</td>\n",
              "    </tr>\n",
              "    <tr>\n",
              "      <th>2008</th>\n",
              "      <td>0.809251</td>\n",
              "    </tr>\n",
              "    <tr>\n",
              "      <th>2009</th>\n",
              "      <td>0.809097</td>\n",
              "    </tr>\n",
              "    <tr>\n",
              "      <th>2010</th>\n",
              "      <td>0.805189</td>\n",
              "    </tr>\n",
              "    <tr>\n",
              "      <th>2011</th>\n",
              "      <td>0.805277</td>\n",
              "    </tr>\n",
              "  </tbody>\n",
              "</table>\n",
              "<p>2012 rows × 1 columns</p>\n",
              "</div>"
            ],
            "text/plain": [
              "             0\n",
              "0     0.122664\n",
              "1     0.125171\n",
              "2     0.125237\n",
              "3     0.086875\n",
              "4     0.059780\n",
              "...        ...\n",
              "2007  0.809144\n",
              "2008  0.809251\n",
              "2009  0.809097\n",
              "2010  0.805189\n",
              "2011  0.805277\n",
              "\n",
              "[2012 rows x 1 columns]"
            ]
          },
          "metadata": {},
          "execution_count": 78
        }
      ]
    },
    {
      "cell_type": "code",
      "source": [
        "y"
      ],
      "metadata": {
        "colab": {
          "base_uri": "https://localhost:8080/"
        },
        "id": "PBtyeddOmxLB",
        "outputId": "1a368ef9-97ae-4339-84fd-90270e28ff3b"
      },
      "execution_count": null,
      "outputs": [
        {
          "output_type": "execute_result",
          "data": {
            "text/plain": [
              "0       0.113807\n",
              "1       0.116663\n",
              "2       0.115753\n",
              "3       0.114922\n",
              "4       0.116029\n",
              "          ...   \n",
              "2007    0.705288\n",
              "2008    0.708168\n",
              "2009    0.708995\n",
              "2010    0.716628\n",
              "2011    0.730986\n",
              "Name: Price_After_period, Length: 2012, dtype: float64"
            ]
          },
          "metadata": {},
          "execution_count": 79
        }
      ]
    },
    {
      "cell_type": "code",
      "source": [
        "from sklearn.model_selection import train_test_split\n",
        "train_X,test_X,train_Y,test_Y=train_test_split(X,y,test_size=0.2,random_state=101)"
      ],
      "metadata": {
        "id": "nrBOyXvEJTN1"
      },
      "execution_count": null,
      "outputs": []
    },
    {
      "cell_type": "code",
      "source": [
        "rf = RandomForestRegressor(n_estimators=500, random_state=101)\n",
        "dt = DecisionTreeRegressor(random_state=101)"
      ],
      "metadata": {
        "id": "4CMhUra4JkmK"
      },
      "execution_count": null,
      "outputs": []
    },
    {
      "cell_type": "code",
      "source": [
        "rf.fit(train_X, train_Y)\n",
        "dt.fit(train_X, train_Y)"
      ],
      "metadata": {
        "colab": {
          "base_uri": "https://localhost:8080/"
        },
        "id": "aUvPV_FNJnjN",
        "outputId": "76ce7fbd-865b-437a-f7eb-abc061c5e9d5"
      },
      "execution_count": null,
      "outputs": [
        {
          "output_type": "execute_result",
          "data": {
            "text/plain": [
              "DecisionTreeRegressor(random_state=101)"
            ]
          },
          "metadata": {},
          "execution_count": 57
        }
      ]
    },
    {
      "cell_type": "code",
      "source": [
        "test_X"
      ],
      "metadata": {
        "colab": {
          "base_uri": "https://localhost:8080/",
          "height": 423
        },
        "id": "DAmC1LtNli1a",
        "outputId": "833fdcd3-13bf-4262-f74b-b2814a7b8b49"
      },
      "execution_count": null,
      "outputs": [
        {
          "output_type": "execute_result",
          "data": {
            "text/html": [
              "<div>\n",
              "<style scoped>\n",
              "    .dataframe tbody tr th:only-of-type {\n",
              "        vertical-align: middle;\n",
              "    }\n",
              "\n",
              "    .dataframe tbody tr th {\n",
              "        vertical-align: top;\n",
              "    }\n",
              "\n",
              "    .dataframe thead th {\n",
              "        text-align: right;\n",
              "    }\n",
              "</style>\n",
              "<table border=\"1\" class=\"dataframe\">\n",
              "  <thead>\n",
              "    <tr style=\"text-align: right;\">\n",
              "      <th></th>\n",
              "      <th>0</th>\n",
              "    </tr>\n",
              "  </thead>\n",
              "  <tbody>\n",
              "    <tr>\n",
              "      <th>1365</th>\n",
              "      <td>0.460470</td>\n",
              "    </tr>\n",
              "    <tr>\n",
              "      <th>1052</th>\n",
              "      <td>0.324237</td>\n",
              "    </tr>\n",
              "    <tr>\n",
              "      <th>1622</th>\n",
              "      <td>0.738288</td>\n",
              "    </tr>\n",
              "    <tr>\n",
              "      <th>1059</th>\n",
              "      <td>0.323192</td>\n",
              "    </tr>\n",
              "    <tr>\n",
              "      <th>104</th>\n",
              "      <td>0.078017</td>\n",
              "    </tr>\n",
              "    <tr>\n",
              "      <th>...</th>\n",
              "      <td>...</td>\n",
              "    </tr>\n",
              "    <tr>\n",
              "      <th>320</th>\n",
              "      <td>0.397157</td>\n",
              "    </tr>\n",
              "    <tr>\n",
              "      <th>1919</th>\n",
              "      <td>0.845411</td>\n",
              "    </tr>\n",
              "    <tr>\n",
              "      <th>1873</th>\n",
              "      <td>0.805958</td>\n",
              "    </tr>\n",
              "    <tr>\n",
              "      <th>416</th>\n",
              "      <td>0.390615</td>\n",
              "    </tr>\n",
              "    <tr>\n",
              "      <th>1633</th>\n",
              "      <td>0.780096</td>\n",
              "    </tr>\n",
              "  </tbody>\n",
              "</table>\n",
              "<p>403 rows × 1 columns</p>\n",
              "</div>"
            ],
            "text/plain": [
              "             0\n",
              "1365  0.460470\n",
              "1052  0.324237\n",
              "1622  0.738288\n",
              "1059  0.323192\n",
              "104   0.078017\n",
              "...        ...\n",
              "320   0.397157\n",
              "1919  0.845411\n",
              "1873  0.805958\n",
              "416   0.390615\n",
              "1633  0.780096\n",
              "\n",
              "[403 rows x 1 columns]"
            ]
          },
          "metadata": {},
          "execution_count": 70
        }
      ]
    },
    {
      "cell_type": "code",
      "source": [
        "preds_rf = rf.predict(test_X)\n",
        "preds_dt = dt.predict(test_X)"
      ],
      "metadata": {
        "id": "HpklXScNGX0P"
      },
      "execution_count": null,
      "outputs": []
    },
    {
      "cell_type": "code",
      "source": [
        "preds_rf"
      ],
      "metadata": {
        "colab": {
          "base_uri": "https://localhost:8080/"
        },
        "id": "1SkXWzBelPVv",
        "outputId": "214423be-7846-4379-e790-37d05e723458"
      },
      "execution_count": null,
      "outputs": [
        {
          "output_type": "execute_result",
          "data": {
            "text/plain": [
              "array([0.4503874 , 0.33355377, 0.78457639, 0.32896191, 0.10328193,\n",
              "       0.24513278, 0.32678551, 0.58339305, 0.24240916, 0.82020109,\n",
              "       0.32040073, 0.32392827, 0.33270366, 0.32846278, 0.64900885,\n",
              "       0.84487215, 0.81912112, 0.32857964, 0.32678551, 0.31625369,\n",
              "       0.26004115, 0.21862198, 0.8843795 , 0.35799827, 0.38742464,\n",
              "       0.35095228, 0.88161592, 0.37696719, 0.67013407, 0.22308575,\n",
              "       0.05911034, 0.31570028, 0.33746981, 0.221487  , 0.48386261,\n",
              "       0.44004375, 0.57122743, 0.32896191, 0.8087495 , 0.33617898,\n",
              "       0.3882397 , 0.38420204, 0.22964526, 0.84390434, 0.41881344,\n",
              "       0.66087267, 0.34996043, 0.06337283, 0.51105902, 0.39669415,\n",
              "       0.22242097, 0.36239245, 0.56052112, 0.23207748, 0.3881303 ,\n",
              "       0.3019255 , 0.44134034, 0.31531385, 0.18087773, 0.25788719,\n",
              "       0.3349046 , 0.22392388, 0.36039812, 0.45602908, 0.22788195,\n",
              "       0.24196353, 0.36346823, 0.34218117, 0.3639275 , 0.34419164,\n",
              "       0.38076769, 0.63872498, 0.24663044, 0.31620492, 0.39476532,\n",
              "       0.87554209, 0.82268891, 0.32768467, 0.88243432, 0.52309419,\n",
              "       0.37347821, 0.84281485, 0.3347881 , 0.06668809, 0.23897453,\n",
              "       0.92098678, 0.46608544, 0.82221405, 0.86871239, 0.824451  ,\n",
              "       0.22929459, 0.3347881 , 0.32825313, 0.80574351, 0.08170645,\n",
              "       0.81912112, 0.33386816, 0.81434175, 0.43577933, 0.08784626,\n",
              "       0.39015369, 0.2533579 , 0.38560801, 0.73471563, 0.33099353,\n",
              "       0.87658528, 0.63388386, 0.07704467, 0.47894533, 0.45942382,\n",
              "       0.31577295, 0.87480153, 0.22600823, 0.91485276, 0.27885853,\n",
              "       0.79985698, 0.37258539, 0.32678551, 0.36186318, 0.29710296,\n",
              "       0.38859426, 0.2525064 , 0.18080617, 0.36836253, 0.83943136,\n",
              "       0.8876342 , 0.38480368, 0.86249932, 0.54261043, 0.38876132,\n",
              "       0.30165786, 0.03369879, 0.82012372, 0.41108044, 0.24682677,\n",
              "       0.31160267, 0.2288986 , 0.29739273, 0.30891017, 0.43078658,\n",
              "       0.82890739, 0.86687792, 0.32547824, 0.04553401, 0.2260233 ,\n",
              "       0.36529374, 0.10903523, 0.22776519, 0.82133031, 0.37529313,\n",
              "       0.31223303, 0.84028423, 0.38532872, 0.08098847, 0.09452332,\n",
              "       0.81416555, 0.2831068 , 0.37320452, 0.36341782, 0.43167065,\n",
              "       0.36093874, 0.40021745, 0.73762672, 0.60837111, 0.85544704,\n",
              "       0.43945733, 0.82221405, 0.80425706, 0.50761594, 0.80616236,\n",
              "       0.24446704, 0.3999808 , 0.32630003, 0.55232244, 0.82215939,\n",
              "       0.6542303 , 0.22776519, 0.43712831, 0.35106485, 0.49565668,\n",
              "       0.22685482, 0.79660518, 0.22805835, 0.29944528, 0.38031116,\n",
              "       0.51193168, 0.29954499, 0.38785097, 0.12121825, 0.21851682,\n",
              "       0.64155778, 0.0413931 , 0.33927689, 0.33910676, 0.34831471,\n",
              "       0.92029415, 0.65385079, 0.3847995 , 0.85912004, 0.42958348,\n",
              "       0.40456632, 0.29258953, 0.62461736, 0.83633658, 0.22954343,\n",
              "       0.38011471, 0.34490572, 0.39742577, 0.23266871, 0.82881932,\n",
              "       0.67608736, 0.86818735, 0.47972981, 0.38437286, 0.23071919,\n",
              "       0.49446331, 0.33004539, 0.16793832, 0.30463336, 0.30183291,\n",
              "       0.32549804, 0.51371999, 0.8751879 , 0.81592532, 0.24572359,\n",
              "       0.16875796, 0.47959149, 0.38504015, 0.88982175, 0.72865534,\n",
              "       0.40104593, 0.85966517, 0.43353242, 0.87610909, 0.35007737,\n",
              "       0.18326416, 0.39146751, 0.30327229, 0.36346823, 0.1704455 ,\n",
              "       0.84771894, 0.87640283, 0.14216712, 0.36174375, 0.23328545,\n",
              "       0.77471189, 0.09725771, 0.86871239, 0.84757857, 0.36186318,\n",
              "       0.05945351, 0.24471753, 0.86249932, 0.85405409, 0.66812228,\n",
              "       0.3834606 , 0.23467293, 0.71829964, 0.23901763, 0.84341811,\n",
              "       0.72759247, 0.39341554, 0.24791742, 0.22236715, 0.65442372,\n",
              "       0.71339927, 0.31956369, 0.36243941, 0.25245575, 0.87172412,\n",
              "       0.25125278, 0.34498295, 0.26327677, 0.25485859, 0.38703248,\n",
              "       0.83192658, 0.28877385, 0.78250234, 0.41387099, 0.3329478 ,\n",
              "       0.24627338, 0.41744634, 0.33854241, 0.29730866, 0.76007382,\n",
              "       0.80616236, 0.80114661, 0.43138857, 0.32711225, 0.3721787 ,\n",
              "       0.09172319, 0.42751729, 0.44307808, 0.36758188, 0.52117525,\n",
              "       0.40101729, 0.36167258, 0.88483251, 0.43204461, 0.30903448,\n",
              "       0.38432774, 0.42684596, 0.76011964, 0.41048821, 0.23897453,\n",
              "       0.40964689, 0.9093782 , 0.85615643, 0.26317506, 0.43743796,\n",
              "       0.32963814, 0.22483639, 0.23734895, 0.25343062, 0.46435978,\n",
              "       0.45678376, 0.49241459, 0.84583776, 0.22141514, 0.93645532,\n",
              "       0.29762485, 0.51353175, 0.71387885, 0.24181876, 0.36118438,\n",
              "       0.4706721 , 0.85119748, 0.40934384, 0.39550736, 0.22597626,\n",
              "       0.34761133, 0.23071919, 0.11836384, 0.32384472, 0.38694138,\n",
              "       0.25208597, 0.0856039 , 0.39474503, 0.37541401, 0.58339305,\n",
              "       0.22779442, 0.26988539, 0.22158298, 0.84487215, 0.24420449,\n",
              "       0.38716274, 0.39518399, 0.33239346, 0.23016244, 0.2388767 ,\n",
              "       0.37964342, 0.08170645, 0.81594605, 0.2904236 , 0.11864274,\n",
              "       0.43043021, 0.18028373, 0.39113887, 0.90154145, 0.39011531,\n",
              "       0.74313893, 0.38479109, 0.3347881 , 0.32055863, 0.26250019,\n",
              "       0.2466761 , 0.83511495, 0.09725771, 0.22271823, 0.887606  ,\n",
              "       0.82836731, 0.79968925, 0.22591725, 0.66132969, 0.33833987,\n",
              "       0.89829563, 0.37144936, 0.27061917, 0.45677931, 0.41035414,\n",
              "       0.29391734, 0.71212609, 0.34298364, 0.8799188 , 0.23835277,\n",
              "       0.40120646, 0.42734438, 0.71387885, 0.8583926 , 0.80704459,\n",
              "       0.22562893, 0.36795513, 0.33290688, 0.22630177, 0.4254157 ,\n",
              "       0.3985804 , 0.38415602, 0.38300432, 0.38076769, 0.86423568,\n",
              "       0.80217254, 0.36150954, 0.82158275])"
            ]
          },
          "metadata": {},
          "execution_count": 73
        }
      ]
    },
    {
      "cell_type": "code",
      "source": [
        "import math\n",
        "from sklearn.metrics import *\n",
        "accuracy=dt.score(test_X, test_Y)\n",
        "accuracy=accuracy*100\n",
        "accuracy = float(\"{0:.4f}\".format(accuracy))\n",
        "print('Decision Tree Accuracy is:',accuracy,'%')\n",
        "print(\"Test data RMSE: \", math.sqrt(mean_squared_error(test_Y,preds_dt)))\n",
        "print(\"Test data MAE: \", mean_absolute_error(test_Y,preds_dt))"
      ],
      "metadata": {
        "colab": {
          "base_uri": "https://localhost:8080/"
        },
        "outputId": "da7d6e3c-1dc9-41d2-ecc9-64bf24e80caf",
        "id": "XzjVhEobGX0W"
      },
      "execution_count": null,
      "outputs": [
        {
          "output_type": "stream",
          "name": "stdout",
          "text": [
            "Decision Tree Accuracy is: 94.8597 %\n",
            "Test data RMSE:  0.05373465835438255\n",
            "Test data MAE:  0.03695007918746109\n"
          ]
        }
      ]
    },
    {
      "cell_type": "code",
      "source": [
        "accuracy=rf.score(test_X, test_Y)\n",
        "accuracy=accuracy*100\n",
        "accuracy = float(\"{0:.4f}\".format(accuracy))\n",
        "print('Random Forest Accuracy is:',accuracy,'%')\n",
        "print(\"Test data RMSE: \", math.sqrt(mean_squared_error(test_Y,preds_rf)))\n",
        "print(\"Test data MAE: \", mean_absolute_error(test_Y,preds_rf))"
      ],
      "metadata": {
        "colab": {
          "base_uri": "https://localhost:8080/"
        },
        "outputId": "112fde14-0cc5-4855-9361-003a9fae2e38",
        "id": "UShVOrL-GX0X"
      },
      "execution_count": null,
      "outputs": [
        {
          "output_type": "stream",
          "name": "stdout",
          "text": [
            "Random Forest Accuracy is: 96.3509 %\n",
            "Test data RMSE:  0.04527472838224796\n",
            "Test data MAE:  0.03196894769374422\n"
          ]
        }
      ]
    },
    {
      "cell_type": "code",
      "source": [
        "xg_reg = xgb.XGBRegressor(objective ='reg:linear', colsample_bytree = 0.3, learning_rate = 0.1,\n",
        "                max_depth = 5, alpha = 10, n_estimators = 10)"
      ],
      "metadata": {
        "id": "eP20-r2fMCUx"
      },
      "execution_count": null,
      "outputs": []
    },
    {
      "cell_type": "code",
      "source": [
        "xg_reg.fit(train_X,train_Y)\n",
        "preds = xg_reg.predict(test_X)"
      ],
      "metadata": {
        "colab": {
          "base_uri": "https://localhost:8080/"
        },
        "id": "LWAyL1H1Lv_p",
        "outputId": "0986c350-51b7-460a-948d-8beeef49caa7"
      },
      "execution_count": null,
      "outputs": [
        {
          "output_type": "stream",
          "name": "stdout",
          "text": [
            "[01:36:42] WARNING: /workspace/src/objective/regression_obj.cu:152: reg:linear is now deprecated in favor of reg:squarederror.\n"
          ]
        }
      ]
    },
    {
      "cell_type": "code",
      "source": [
        "rmse = np.sqrt(mean_squared_error(test_Y, preds))\n",
        "print(\"RMSE: %f\" % (rmse))\n",
        "mae = mean_absolute_error(test_Y, preds)\n",
        "print(\"MAE: %f\" % (mae))\n",
        "accuracy=xg_reg.score(test_X, test_Y)\n",
        "accuracy=accuracy*100\n",
        "accuracy = float(\"{0:.4f}\".format(accuracy))\n",
        "print('XGBoost Accuracy is:',accuracy,'%')"
      ],
      "metadata": {
        "colab": {
          "base_uri": "https://localhost:8080/"
        },
        "id": "1ykqjSw_MJqd",
        "outputId": "b68c1b4d-c3b1-4f6b-b4be-c7918116166c"
      },
      "execution_count": null,
      "outputs": [
        {
          "output_type": "stream",
          "name": "stdout",
          "text": [
            "RMSE: 0.092199\n",
            "MAE: 0.079058\n",
            "XGBoost Accuracy is: 84.8669 %\n"
          ]
        }
      ]
    },
    {
      "cell_type": "code",
      "source": [
        "##### LSTM\n",
        "model=Sequential()\n",
        "\n",
        "model.add(LSTM(10,input_shape=(None,1),activation=\"relu\"))\n",
        "\n",
        "model.add(Dense(1))\n",
        "\n",
        "model.compile(loss=\"mean_squared_error\",optimizer=\"adam\")"
      ],
      "metadata": {
        "id": "wliK-4LESGY9"
      },
      "execution_count": null,
      "outputs": []
    },
    {
      "cell_type": "code",
      "source": [
        "history = model.fit(train_X,train_Y,validation_data=(test_X,test_Y),epochs=10,batch_size=32,verbose=1)"
      ],
      "metadata": {
        "id": "AZdOwXpGSN_L",
        "colab": {
          "base_uri": "https://localhost:8080/"
        },
        "outputId": "775fce7f-a51e-44e1-c405-7a91d8db7e70"
      },
      "execution_count": null,
      "outputs": [
        {
          "output_type": "stream",
          "name": "stdout",
          "text": [
            "Epoch 1/10\n",
            "51/51 [==============================] - 2s 8ms/step - loss: 0.2448 - val_loss: 0.2179\n",
            "Epoch 2/10\n",
            "51/51 [==============================] - 0s 3ms/step - loss: 0.1995 - val_loss: 0.1753\n",
            "Epoch 3/10\n",
            "51/51 [==============================] - 0s 3ms/step - loss: 0.1585 - val_loss: 0.1363\n",
            "Epoch 4/10\n",
            "51/51 [==============================] - 0s 3ms/step - loss: 0.1209 - val_loss: 0.1005\n",
            "Epoch 5/10\n",
            "51/51 [==============================] - 0s 3ms/step - loss: 0.0878 - val_loss: 0.0711\n",
            "Epoch 6/10\n",
            "51/51 [==============================] - 0s 3ms/step - loss: 0.0624 - val_loss: 0.0502\n",
            "Epoch 7/10\n",
            "51/51 [==============================] - 0s 3ms/step - loss: 0.0459 - val_loss: 0.0388\n",
            "Epoch 8/10\n",
            "51/51 [==============================] - 0s 3ms/step - loss: 0.0376 - val_loss: 0.0334\n",
            "Epoch 9/10\n",
            "51/51 [==============================] - 0s 3ms/step - loss: 0.0338 - val_loss: 0.0308\n",
            "Epoch 10/10\n",
            "51/51 [==============================] - 0s 3ms/step - loss: 0.0315 - val_loss: 0.0290\n"
          ]
        }
      ]
    },
    {
      "cell_type": "code",
      "source": [
        "import matplotlib.pyplot as plt\n",
        "\n",
        "loss = history.history['loss']\n",
        "val_loss = history.history['val_loss']\n",
        "\n",
        "epochs = range(len(loss))\n",
        "\n",
        "plt.plot(epochs, loss, 'r', label='Training loss')\n",
        "plt.plot(epochs, val_loss, 'b', label='Validation loss')\n",
        "plt.title('Training and validation loss')\n",
        "plt.legend(loc=0)\n",
        "plt.figure()\n",
        "\n",
        "plt.show()"
      ],
      "metadata": {
        "id": "yN32JdPSSh29",
        "colab": {
          "base_uri": "https://localhost:8080/",
          "height": 302
        },
        "outputId": "b8a973a5-49ab-46e2-d9d6-7e12d385563c"
      },
      "execution_count": null,
      "outputs": [
        {
          "output_type": "display_data",
          "data": {
            "image/png": "[encoded data removed]",
            "text/plain": [
              "<Figure size 432x288 with 1 Axes>"
            ]
          },
          "metadata": {}
        },
        {
          "output_type": "display_data",
          "data": {
            "text/plain": [
              "<Figure size 432x288 with 0 Axes>"
            ]
          },
          "metadata": {}
        }
      ]
    },
    {
      "cell_type": "code",
      "source": [
        "train_predict=model.predict(train_X)\n",
        "test_predict=model.predict(test_X)\n",
        "train_predict.shape, test_predict.shape"
      ],
      "metadata": {
        "id": "YHYhv4Q7S64m",
        "colab": {
          "base_uri": "https://localhost:8080/"
        },
        "outputId": "623f3a12-3f67-4331-f9b3-3a852449674a"
      },
      "execution_count": null,
      "outputs": [
        {
          "output_type": "execute_result",
          "data": {
            "text/plain": [
              "((1609, 1), (403, 1))"
            ]
          },
          "metadata": {},
          "execution_count": 68
        }
      ]
    },
    {
      "cell_type": "code",
      "source": [
        "print(\"Train data RMSE: \", math.sqrt(mean_squared_error(train_Y,train_predict)))\n",
        "print(\"Train data MSE: \", mean_squared_error(train_Y,train_predict))\n",
        "print(\"Train data MAE: \", mean_absolute_error(train_Y,train_predict))\n",
        "print(\"-------------------------------------------------------------------------------------\")\n",
        "print(\"Test data RMSE: \", math.sqrt(mean_squared_error(test_Y,test_predict)))\n",
        "print(\"Test data MSE: \", mean_squared_error(test_Y,test_predict))\n",
        "print(\"Test data MAE: \", mean_absolute_error(test_Y,test_predict))"
      ],
      "metadata": {
        "id": "_C3IzaSoS73O",
        "colab": {
          "base_uri": "https://localhost:8080/"
        },
        "outputId": "918bf109-660f-4d13-e463-1c0266158ba1"
      },
      "execution_count": null,
      "outputs": [
        {
          "output_type": "stream",
          "name": "stdout",
          "text": [
            "Train data RMSE:  0.1748236000916505\n",
            "Train data MSE:  0.03056329114900534\n",
            "Train data MAE:  0.1517273094317326\n",
            "-------------------------------------------------------------------------------------\n",
            "Test data RMSE:  0.17016371009336786\n",
            "Test data MSE:  0.028955688232739748\n",
            "Test data MAE:  0.14770322180300338\n"
          ]
        }
      ]
    }
  ]
}